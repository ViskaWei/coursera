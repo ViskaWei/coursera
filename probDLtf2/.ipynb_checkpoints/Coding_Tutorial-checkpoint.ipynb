{
  "nbformat": 4,
  "nbformat_minor": 0,
  "metadata": {
    "kernelspec": {
      "display_name": "Python 3",
      "language": "python",
      "name": "python3"
    },
    "language_info": {
      "codemirror_mode": {
        "name": "ipython",
        "version": 3
      },
      "file_extension": ".py",
      "mimetype": "text/x-python",
      "name": "python",
      "nbconvert_exporter": "python",
      "pygments_lexer": "ipython3",
      "version": "3.7.1"
    },
    "colab": {
      "name": "Coding Tutorial.ipynb",
      "provenance": [],
      "collapsed_sections": [
        "_7tvenxCsgnf"
      ]
    }
  },
  "cells": [
    {
      "cell_type": "code",
      "metadata": {
        "id": "e4NV6Xcdsgma",
        "colab": {
          "base_uri": "https://localhost:8080/"
        },
        "outputId": "25fec4e2-aca9-402e-933e-15d4c293a34f"
      },
      "source": [
        "import tensorflow as tf\n",
        "import tensorflow_probability as tfp\n",
        "tfd = tfp.distributions\n",
        "\n",
        "print(\"TF version:\", tf.__version__)\n",
        "print(\"TFP version:\", tfp.__version__)"
      ],
      "execution_count": 1,
      "outputs": [
        {
          "output_type": "stream",
          "name": "stdout",
          "text": [
            "TF version: 2.8.0\n",
            "TFP version: 0.16.0\n"
          ]
        }
      ]
    },
    {
      "cell_type": "code",
      "metadata": {
        "id": "Luc9w4p_sgmc"
      },
      "source": [
        "# Additional imports and setting fixed random seed to have reproducibility\n",
        "\n",
        "import matplotlib.pyplot as plt\n",
        "import numpy as np\n",
        "tf.random.set_seed(123)"
      ],
      "execution_count": 2,
      "outputs": []
    },
    {
      "cell_type": "markdown",
      "metadata": {
        "id": "00uSMbgVsgme"
      },
      "source": [
        "# Tensorflow Distributions"
      ]
    },
    {
      "cell_type": "markdown",
      "source": [
        "- batch shape: B = # of distribution \n",
        "- event shape: E  =# of events per distribution\n",
        "\n",
        "- sample shape for S samples = (S, B, E)\n",
        "\n",
        "- prob shape: (B) since only B distribution. all events are sampled from same prob.\n",
        "\n"
      ],
      "metadata": {
        "id": "sm0fe-LWClVA"
      }
    },
    {
      "cell_type": "markdown",
      "metadata": {
        "id": "E7htVM9psgme"
      },
      "source": [
        "## Coding Tutorials\n",
        "#### 1. [Univariate Distributions](#univariate_distributions)\n",
        "#### 2. [Multivariate Distributions](#multivariate_distributions)\n",
        "#### 3. [The Independent Distribution](#the_independent_distribution)\n",
        "#### 4. [Sampling and log probs](#sampling_and_log_probs)\n",
        "#### 5. [Trainable Distributions](#trainable_distributions)"
      ]
    },
    {
      "cell_type": "markdown",
      "metadata": {
        "id": "Jj29CUq6sgme"
      },
      "source": [
        "***\n",
        "## Univariate distributions\n",
        "<a id='univariate_distributions'></a>"
      ]
    },
    {
      "cell_type": "code",
      "metadata": {
        "id": "JoHMzrrDsgmf",
        "colab": {
          "base_uri": "https://localhost:8080/"
        },
        "outputId": "0cf50188-8da2-4eb4-9d73-67f7080f1438"
      },
      "source": [
        "# Create a normal distribution from Tensorflow Distributions\n",
        "\n",
        "normal=tfd.Normal(loc=0,scale=1)\n",
        "normal"
      ],
      "execution_count": null,
      "outputs": [
        {
          "output_type": "execute_result",
          "data": {
            "text/plain": [
              "<tfp.distributions.Normal 'Normal' batch_shape=[] event_shape=[] dtype=float32>"
            ]
          },
          "metadata": {},
          "execution_count": 6
        }
      ]
    },
    {
      "cell_type": "code",
      "metadata": {
        "id": "XPCtjb2bsgmi",
        "colab": {
          "base_uri": "https://localhost:8080/"
        },
        "outputId": "f9272f49-6596-4b60-a15c-d110a630a2a1"
      },
      "source": [
        "# Sample from the chosen distribution...\n",
        "normal.sample()\n"
      ],
      "execution_count": null,
      "outputs": [
        {
          "output_type": "execute_result",
          "data": {
            "text/plain": [
              "<tf.Tensor: shape=(), dtype=float32, numpy=0.33875433>"
            ]
          },
          "metadata": {},
          "execution_count": 8
        }
      ]
    },
    {
      "cell_type": "code",
      "metadata": {
        "id": "LE4LZS7rsgmk",
        "colab": {
          "base_uri": "https://localhost:8080/"
        },
        "outputId": "ca89dce8-baad-4be1-d682-f02e028460cc"
      },
      "source": [
        "# ... or sample multiple times\n",
        "normal.sample(3)\n"
      ],
      "execution_count": null,
      "outputs": [
        {
          "output_type": "execute_result",
          "data": {
            "text/plain": [
              "<tf.Tensor: shape=(3,), dtype=float32, numpy=array([-0.61346006, -1.0256168 , -1.1752816 ], dtype=float32)>"
            ]
          },
          "metadata": {},
          "execution_count": 9
        }
      ]
    },
    {
      "cell_type": "code",
      "metadata": {
        "id": "Gc_PQ10Tsgmm",
        "colab": {
          "base_uri": "https://localhost:8080/"
        },
        "outputId": "c0e3a077-ada8-4238-c57d-8707d3b9ef5a"
      },
      "source": [
        "# Obtain value of probability's density\n",
        "normal.prob(2)"
      ],
      "execution_count": null,
      "outputs": [
        {
          "output_type": "execute_result",
          "data": {
            "text/plain": [
              "<tf.Tensor: shape=(), dtype=float32, numpy=0.05399096>"
            ]
          },
          "metadata": {},
          "execution_count": 16
        }
      ]
    },
    {
      "cell_type": "code",
      "metadata": {
        "id": "vMbFWoMwsgmn",
        "colab": {
          "base_uri": "https://localhost:8080/"
        },
        "outputId": "1e10e46d-fec2-4370-a45e-e64d86736c33"
      },
      "source": [
        "# Obtain value of logprobability\n",
        "normal.log_prob(2)\n"
      ],
      "execution_count": null,
      "outputs": [
        {
          "output_type": "execute_result",
          "data": {
            "text/plain": [
              "<tf.Tensor: shape=(), dtype=float32, numpy=-2.9189386>"
            ]
          },
          "metadata": {},
          "execution_count": 17
        }
      ]
    },
    {
      "cell_type": "code",
      "metadata": {
        "id": "e6TkQQqvsgmp",
        "colab": {
          "base_uri": "https://localhost:8080/"
        },
        "outputId": "6ed4ebaf-2dd8-459e-ef7e-e4e39343ca5f"
      },
      "source": [
        "# Verify that this really is the log of the probability\n",
        "np.log(normal.prob(2))\n"
      ],
      "execution_count": null,
      "outputs": [
        {
          "output_type": "execute_result",
          "data": {
            "text/plain": [
              "-2.9189386"
            ]
          },
          "metadata": {},
          "execution_count": 18
        }
      ]
    },
    {
      "cell_type": "code",
      "metadata": {
        "id": "rk3lYT3jsgmr",
        "colab": {
          "base_uri": "https://localhost:8080/",
          "height": 265
        },
        "outputId": "5da2a837-0ecf-4090-d9aa-f5ae0702a7c0"
      },
      "source": [
        "# Plot a histogram, approximating the density\n",
        "\n",
        "plt.hist(normal.sample(10000), bins=50, density=True)\n",
        "plt.show()"
      ],
      "execution_count": null,
      "outputs": [
        {
          "output_type": "display_data",
          "data": {
            "text/plain": [
              "<Figure size 432x288 with 1 Axes>"
            ],
            "image/png": "[encoded data removed]"
          },
          "metadata": {
            "needs_background": "light"
          }
        }
      ]
    },
    {
      "cell_type": "code",
      "metadata": {
        "id": "IUyiPOwVsgms",
        "colab": {
          "base_uri": "https://localhost:8080/"
        },
        "outputId": "401ca733-0736-4328-cee9-0400e2338958"
      },
      "source": [
        "# Do the same for the exponential distribution\n",
        "\n",
        "exp = tfd.Exponential(0.2)\n",
        "exp"
      ],
      "execution_count": null,
      "outputs": [
        {
          "output_type": "execute_result",
          "data": {
            "text/plain": [
              "<tfp.distributions.Exponential 'Exponential' batch_shape=[] event_shape=[] dtype=float32>"
            ]
          },
          "metadata": {},
          "execution_count": 20
        }
      ]
    },
    {
      "cell_type": "code",
      "source": [
        "exp.sample(3)"
      ],
      "metadata": {
        "colab": {
          "base_uri": "https://localhost:8080/"
        },
        "id": "Q2-2QdmvFY61",
        "outputId": "df6e344b-fd8b-4902-a5f2-148da65e957e"
      },
      "execution_count": null,
      "outputs": [
        {
          "output_type": "execute_result",
          "data": {
            "text/plain": [
              "<tf.Tensor: shape=(3,), dtype=float32, numpy=array([0.273762 , 7.5723047, 4.875069 ], dtype=float32)>"
            ]
          },
          "metadata": {},
          "execution_count": 22
        }
      ]
    },
    {
      "cell_type": "code",
      "metadata": {
        "id": "zAxCh7ynsgmu",
        "colab": {
          "base_uri": "https://localhost:8080/"
        },
        "outputId": "a2ce2bfb-64c7-4bc3-fa12-e4c2e8d5dfec"
      },
      "source": [
        "# Sample as before\n",
        "exp.sample()\n"
      ],
      "execution_count": null,
      "outputs": [
        {
          "output_type": "execute_result",
          "data": {
            "text/plain": [
              "<tf.Tensor: shape=(), dtype=float32, numpy=1.589808>"
            ]
          },
          "metadata": {},
          "execution_count": 21
        }
      ]
    },
    {
      "cell_type": "code",
      "source": [
        "\n",
        "exp.prob(0)"
      ],
      "metadata": {
        "colab": {
          "base_uri": "https://localhost:8080/"
        },
        "id": "9GLk426BFfVm",
        "outputId": "6b8546cf-a42c-4b47-9fcb-f98d29f01938"
      },
      "execution_count": null,
      "outputs": [
        {
          "output_type": "execute_result",
          "data": {
            "text/plain": [
              "<tf.Tensor: shape=(), dtype=float32, numpy=0.19999999>"
            ]
          },
          "metadata": {},
          "execution_count": 23
        }
      ]
    },
    {
      "cell_type": "code",
      "source": [
        "exp.log_prob(0)"
      ],
      "metadata": {
        "colab": {
          "base_uri": "https://localhost:8080/"
        },
        "id": "LA94YLwOFg-W",
        "outputId": "5f61d977-0d5b-40a5-b5fa-b6d5c64b5e32"
      },
      "execution_count": null,
      "outputs": [
        {
          "output_type": "execute_result",
          "data": {
            "text/plain": [
              "<tf.Tensor: shape=(), dtype=float32, numpy=-1.609438>"
            ]
          },
          "metadata": {},
          "execution_count": 24
        }
      ]
    },
    {
      "cell_type": "code",
      "source": [
        "_=plt.hist(exp.sample(10000), bins=50, density=1)\n"
      ],
      "metadata": {
        "colab": {
          "base_uri": "https://localhost:8080/",
          "height": 265
        },
        "id": "vsKieB51FdmG",
        "outputId": "50d32f65-5675-4600-b6ad-582d28c67eaf"
      },
      "execution_count": null,
      "outputs": [
        {
          "output_type": "display_data",
          "data": {
            "text/plain": [
              "<Figure size 432x288 with 1 Axes>"
            ],
            "image/png": "[encoded data removed]"
          },
          "metadata": {
            "needs_background": "light"
          }
        }
      ]
    },
    {
      "cell_type": "code",
      "metadata": {
        "id": "D-yhrZAqsgmw"
      },
      "source": [
        "# Create a Bernoulli distribution (discrete)\n",
        "ber = tfd.Bernoulli(probs=0.8)\n"
      ],
      "execution_count": null,
      "outputs": []
    },
    {
      "cell_type": "markdown",
      "metadata": {
        "id": "o4YMGd7dsgmy"
      },
      "source": [
        "#### A word of caution on discrete distributions"
      ]
    },
    {
      "cell_type": "code",
      "metadata": {
        "id": "_qhEUig2sgmy"
      },
      "source": [
        "# Calculate Bernoulli prob and see that 0.5 and -1 do not give the correct probability!\n",
        "\n",
        "for k in [0,0.5,1,-1]:\n",
        "    print('prob result {} for k = {} '.format())"
      ],
      "execution_count": null,
      "outputs": []
    },
    {
      "cell_type": "code",
      "metadata": {
        "id": "3i_ifyZLsgmz"
      },
      "source": [
        "# Replicate the scores to see what is occurring under the hood\n",
        "\n",
        "def my_bernoulli(p_sucess, k):\n",
        "    return np.power(p_sucess,k)*np.power((1-p_sucess),(1-k))"
      ],
      "execution_count": null,
      "outputs": []
    },
    {
      "cell_type": "code",
      "metadata": {
        "id": "YjDZmhp1sgm0"
      },
      "source": [
        "# Evaluate it as before\n",
        "\n",
        "for k in [0,0.5,1,-1]:\n",
        "    print('prob result {} for k = {} '.format())"
      ],
      "execution_count": null,
      "outputs": []
    },
    {
      "cell_type": "markdown",
      "metadata": {
        "id": "Jn2Cg3YEsgm2"
      },
      "source": [
        "#### Work with batch distributions"
      ]
    },
    {
      "cell_type": "code",
      "metadata": {
        "id": "FhtSN4-Esgm2",
        "colab": {
          "base_uri": "https://localhost:8080/"
        },
        "outputId": "80cef89e-4861-45b4-e067-2e135630b931"
      },
      "source": [
        "# Create a batched Bernoulli distribution\n",
        "\n",
        "bernoulli_batch = tfd.Bernoulli(probs=[0.1, 0.25, 0.5, 0.75, 0.9])\n",
        "bernoulli_batch"
      ],
      "execution_count": null,
      "outputs": [
        {
          "output_type": "execute_result",
          "data": {
            "text/plain": [
              "<tfp.distributions.Bernoulli 'Bernoulli' batch_shape=[5] event_shape=[] dtype=int32>"
            ]
          },
          "metadata": {},
          "execution_count": 31
        }
      ]
    },
    {
      "cell_type": "code",
      "metadata": {
        "id": "i1amOMwzsgm4",
        "colab": {
          "base_uri": "https://localhost:8080/"
        },
        "outputId": "873befea-ec5f-4d67-8cbc-9f05ebfb8f51"
      },
      "source": [
        "# Sample from it, noting the shape\n",
        "bernoulli_batch.sample(2)\n"
      ],
      "execution_count": null,
      "outputs": [
        {
          "output_type": "execute_result",
          "data": {
            "text/plain": [
              "<tf.Tensor: shape=(2, 5), dtype=int32, numpy=\n",
              "array([[0, 0, 0, 1, 1],\n",
              "       [0, 0, 0, 0, 1]], dtype=int32)>"
            ]
          },
          "metadata": {},
          "execution_count": 32
        }
      ]
    },
    {
      "cell_type": "code",
      "metadata": {
        "id": "BrcfsPL0sgm6",
        "colab": {
          "base_uri": "https://localhost:8080/"
        },
        "outputId": "a5838797-051d-4e9d-c4cf-e942ccb276a9"
      },
      "source": [
        "# Use a batch shape with higher rank\n",
        "\n",
        "probs = [[[0.5, 0.5], \n",
        "          [0.8, 0.3], \n",
        "          [0.25, 0.75]]]\n",
        "bernoulli_batch_2D = tfd.Bernoulli(probs=probs)\n",
        "bernoulli_batch_2D"
      ],
      "execution_count": null,
      "outputs": [
        {
          "output_type": "execute_result",
          "data": {
            "text/plain": [
              "<tfp.distributions.Bernoulli 'Bernoulli' batch_shape=[1, 3, 2] event_shape=[] dtype=int32>"
            ]
          },
          "metadata": {},
          "execution_count": 33
        }
      ]
    },
    {
      "cell_type": "code",
      "metadata": {
        "id": "IseSexERsgm8",
        "colab": {
          "base_uri": "https://localhost:8080/"
        },
        "outputId": "d3975f58-5f0a-4a1a-af48-e8c70c7dc5bd"
      },
      "source": [
        "# Sample from this batch of distributions\n",
        "bernoulli_batch_2D.sample(2)\n"
      ],
      "execution_count": null,
      "outputs": [
        {
          "output_type": "execute_result",
          "data": {
            "text/plain": [
              "<tf.Tensor: shape=(2, 1, 3, 2), dtype=int32, numpy=\n",
              "array([[[[1, 1],\n",
              "         [1, 0],\n",
              "         [0, 1]]],\n",
              "\n",
              "\n",
              "       [[[1, 1],\n",
              "         [1, 0],\n",
              "         [0, 1]]]], dtype=int32)>"
            ]
          },
          "metadata": {},
          "execution_count": 34
        }
      ]
    },
    {
      "cell_type": "code",
      "metadata": {
        "id": "MWZmvprYsgm9",
        "colab": {
          "base_uri": "https://localhost:8080/"
        },
        "outputId": "38af5922-8098-4df7-805d-3a8c81136ee7"
      },
      "source": [
        "# Determine probabilities from this batch distribution\n",
        "\n",
        "bernoulli_batch_2D.prob([[[1, 0], \n",
        "                         [0, 0], \n",
        "                         [1, 1]]])"
      ],
      "execution_count": null,
      "outputs": [
        {
          "output_type": "execute_result",
          "data": {
            "text/plain": [
              "<tf.Tensor: shape=(1, 3, 2), dtype=float32, numpy=\n",
              "array([[[0.5       , 0.5       ],\n",
              "        [0.19999999, 0.7       ],\n",
              "        [0.25      , 0.75      ]]], dtype=float32)>"
            ]
          },
          "metadata": {},
          "execution_count": 35
        }
      ]
    },
    {
      "cell_type": "code",
      "source": [
        "\n",
        "bernoulli_batch_2D.prob([[1,0]]) "
      ],
      "metadata": {
        "colab": {
          "base_uri": "https://localhost:8080/"
        },
        "id": "9K9pwgVdHPei",
        "outputId": "83a3e7e1-91d8-41f4-d9cb-f03cd7a15f5a"
      },
      "execution_count": null,
      "outputs": [
        {
          "output_type": "execute_result",
          "data": {
            "text/plain": [
              "<tf.Tensor: shape=(1, 3, 2), dtype=float32, numpy=\n",
              "array([[[0.5 , 0.5 ],\n",
              "        [0.8 , 0.7 ],\n",
              "        [0.25, 0.25]]], dtype=float32)>"
            ]
          },
          "metadata": {},
          "execution_count": 40
        }
      ]
    },
    {
      "cell_type": "markdown",
      "metadata": {
        "id": "zlvfIjF3sgm-"
      },
      "source": [
        "***\n",
        "<a id='multivariate_distributions'></a>\n",
        "## Multivariate Distributions\n"
      ]
    },
    {
      "cell_type": "markdown",
      "metadata": {
        "id": "94n2DK21sgm-"
      },
      "source": [
        "#### Basic multivariate distributions"
      ]
    },
    {
      "cell_type": "code",
      "source": [
        "\n",
        "norm = tfd.Normal(loc=[0,0], scale=[1,1])\n",
        "norm"
      ],
      "metadata": {
        "colab": {
          "base_uri": "https://localhost:8080/"
        },
        "id": "cyeWptr09J9G",
        "outputId": "d7d5f24b-afc2-4fcc-f85a-b78ef2261743"
      },
      "execution_count": 48,
      "outputs": [
        {
          "output_type": "execute_result",
          "data": {
            "text/plain": [
              "<tfp.distributions.Normal 'Normal' batch_shape=[2] event_shape=[] dtype=float32>"
            ]
          },
          "metadata": {},
          "execution_count": 48
        }
      ]
    },
    {
      "cell_type": "code",
      "source": [
        "norm.sample(2)"
      ],
      "metadata": {
        "colab": {
          "base_uri": "https://localhost:8080/"
        },
        "id": "1D1DLEuP9Q9G",
        "outputId": "2ab9d2d1-3e55-4a98-dd69-0ceec4a59fa8"
      },
      "execution_count": 49,
      "outputs": [
        {
          "output_type": "execute_result",
          "data": {
            "text/plain": [
              "<tf.Tensor: shape=(2, 2), dtype=float32, numpy=\n",
              "array([[-0.25055045, -0.08064709],\n",
              "       [ 0.69627273,  1.601835  ]], dtype=float32)>"
            ]
          },
          "metadata": {},
          "execution_count": 49
        }
      ]
    },
    {
      "cell_type": "code",
      "source": [
        ""
      ],
      "metadata": {
        "id": "X8qfqvniCfWl"
      },
      "execution_count": null,
      "outputs": []
    },
    {
      "cell_type": "code",
      "source": [
        "norm.prob([0.5,0.5])"
      ],
      "metadata": {
        "colab": {
          "base_uri": "https://localhost:8080/"
        },
        "id": "7yALUX889S5W",
        "outputId": "72b7a10d-e3e0-497a-d436-181449985e6c"
      },
      "execution_count": 50,
      "outputs": [
        {
          "output_type": "execute_result",
          "data": {
            "text/plain": [
              "<tf.Tensor: shape=(2,), dtype=float32, numpy=array([0.35206532, 0.35206532], dtype=float32)>"
            ]
          },
          "metadata": {},
          "execution_count": 50
        }
      ]
    },
    {
      "cell_type": "code",
      "metadata": {
        "id": "35RX_A3wsgm-",
        "colab": {
          "base_uri": "https://localhost:8080/"
        },
        "outputId": "f39857fc-fb7c-40fb-87c1-87272c5cff25"
      },
      "source": [
        "# Define 2D multivariate Gaussian with diagonal covariance matrix\n",
        "\n",
        "normal_diag = tfd.MultivariateNormalDiag(loc=[0,1], scale_diag=[1,2])\n",
        "normal_diag"
      ],
      "execution_count": 52,
      "outputs": [
        {
          "output_type": "execute_result",
          "data": {
            "text/plain": [
              "<tfp.distributions.MultivariateNormalDiag 'MultivariateNormalDiag' batch_shape=[] event_shape=[2] dtype=float32>"
            ]
          },
          "metadata": {},
          "execution_count": 52
        }
      ]
    },
    {
      "cell_type": "code",
      "metadata": {
        "id": "zblklZq6sgnA",
        "colab": {
          "base_uri": "https://localhost:8080/"
        },
        "outputId": "745fed75-0042-4edc-f0f5-b5e26fa9702e"
      },
      "source": [
        "# Sample from it\n",
        "normal_diag.sample(5)\n"
      ],
      "execution_count": 53,
      "outputs": [
        {
          "output_type": "execute_result",
          "data": {
            "text/plain": [
              "<tf.Tensor: shape=(5, 2), dtype=float32, numpy=\n",
              "array([[-1.1120325 ,  1.7255565 ],\n",
              "       [-1.7191917 , -2.1388934 ],\n",
              "       [ 0.71032196,  3.4556835 ],\n",
              "       [ 0.58816636,  1.4848351 ],\n",
              "       [-1.0549843 ,  5.541123  ]], dtype=float32)>"
            ]
          },
          "metadata": {},
          "execution_count": 53
        }
      ]
    },
    {
      "cell_type": "code",
      "source": [
        "normal_diag.prob([1])"
      ],
      "metadata": {
        "colab": {
          "base_uri": "https://localhost:8080/"
        },
        "id": "n7AisLRt9Yv-",
        "outputId": "ba91e8c3-9741-4cbf-925d-1ef956629c74"
      },
      "execution_count": 55,
      "outputs": [
        {
          "output_type": "execute_result",
          "data": {
            "text/plain": [
              "<tf.Tensor: shape=(), dtype=float32, numpy=0.048266176>"
            ]
          },
          "metadata": {},
          "execution_count": 55
        }
      ]
    },
    {
      "cell_type": "code",
      "metadata": {
        "id": "CJIxbKJDsgnB",
        "colab": {
          "base_uri": "https://localhost:8080/",
          "height": 265
        },
        "outputId": "a1883531-323f-48af-808e-77b58ce45648"
      },
      "source": [
        "# Make a plot\n",
        "\n",
        "plt_sample = normal_diag.sample(10000)\n",
        "plt.scatter(plt_sample[:, 0], plt_sample[:, 1], marker='.', alpha=0.05)\n",
        "plt.axis('equal')\n",
        "plt.show()"
      ],
      "execution_count": null,
      "outputs": [
        {
          "output_type": "display_data",
          "data": {
            "text/plain": [
              "<Figure size 432x288 with 1 Axes>"
            ],
            "image/png": "[encoded data removed]"
          },
          "metadata": {
            "needs_background": "light"
          }
        }
      ]
    },
    {
      "cell_type": "markdown",
      "metadata": {
        "id": "Lga_t7q0sgnC"
      },
      "source": [
        "#### Batches of multivariate distributions"
      ]
    },
    {
      "cell_type": "code",
      "source": [
        "\n",
        "normal_diag_batch = tfd.MultivariateNormalDiag(loc=[[0,0]], scale_diag=[[1,2]])\n",
        "normal_diag_batch"
      ],
      "metadata": {
        "colab": {
          "base_uri": "https://localhost:8080/"
        },
        "id": "8rKHxZhjL_oM",
        "outputId": "f0066e4c-1cdd-4cb7-a124-990db6b4b78e"
      },
      "execution_count": null,
      "outputs": [
        {
          "output_type": "execute_result",
          "data": {
            "text/plain": [
              "<tfp.distributions.MultivariateNormalDiag 'MultivariateNormalDiag' batch_shape=[1] event_shape=[2] dtype=float32>"
            ]
          },
          "metadata": {},
          "execution_count": 67
        }
      ]
    },
    {
      "cell_type": "code",
      "metadata": {
        "id": "jrz-S40GsgnC",
        "colab": {
          "base_uri": "https://localhost:8080/"
        },
        "outputId": "26f953d9-66fb-4d48-9591-36c10c6f962a"
      },
      "source": [
        "# Create three \"batches\" of multivariate normals\n",
        "\n",
        "normal_diag_batch = tfd.MultivariateNormalDiag(loc=[[0,0],[0,0],[0,0]], scale_diag=[[1,2],[2,1],[2,2]])\n",
        "normal_diag_batch"
      ],
      "execution_count": null,
      "outputs": [
        {
          "output_type": "execute_result",
          "data": {
            "text/plain": [
              "<tfp.distributions.MultivariateNormalDiag 'MultivariateNormalDiag' batch_shape=[3] event_shape=[2] dtype=float32>"
            ]
          },
          "metadata": {},
          "execution_count": 73
        }
      ]
    },
    {
      "cell_type": "code",
      "metadata": {
        "id": "3cuB8hfCsgnE",
        "colab": {
          "base_uri": "https://localhost:8080/"
        },
        "outputId": "79f9c2af-43f2-4c69-b00b-49e31e3eb4b1"
      },
      "source": [
        "# Sample from it\n",
        "samples=normal_diag_batch.sample(3)\n",
        "samples"
      ],
      "execution_count": null,
      "outputs": [
        {
          "output_type": "execute_result",
          "data": {
            "text/plain": [
              "<tf.Tensor: shape=(3, 3, 2), dtype=float32, numpy=\n",
              "array([[[-0.35409725,  1.582254  ],\n",
              "        [-0.09929207, -1.3408734 ],\n",
              "        [-0.2719766 ,  2.0399415 ]],\n",
              "\n",
              "       [[ 0.6918351 ,  0.40459615],\n",
              "        [ 1.0503383 , -0.8619743 ],\n",
              "        [-2.1390147 , -1.2772093 ]],\n",
              "\n",
              "       [[ 0.51670283, -0.577039  ],\n",
              "        [ 0.11176297, -0.26463044],\n",
              "        [ 0.44969034,  3.4669116 ]]], dtype=float32)>"
            ]
          },
          "metadata": {},
          "execution_count": 74
        }
      ]
    },
    {
      "cell_type": "code",
      "metadata": {
        "id": "_83n1afGsgnG",
        "colab": {
          "base_uri": "https://localhost:8080/"
        },
        "outputId": "842530b9-d5be-4831-ffe5-f801af27ae83"
      },
      "source": [
        "\n",
        "# Compute log probs\n",
        "normal_diag_batch.log_prob(samples)\n",
        "\n"
      ],
      "execution_count": null,
      "outputs": [
        {
          "output_type": "execute_result",
          "data": {
            "text/plain": [
              "<tf.Tensor: shape=(3, 3), dtype=float32, numpy=\n",
              "array([[-2.9066577, -3.4312272, -3.753588 ],\n",
              "       [-2.7908044, -3.0404253, -4.0000024],\n",
              "       [-2.706137 , -2.5676003, -4.7518835]], dtype=float32)>"
            ]
          },
          "metadata": {},
          "execution_count": 75
        }
      ]
    },
    {
      "cell_type": "code",
      "metadata": {
        "id": "cXTIHrK3sgnH"
      },
      "source": [
        "# Create a sample for a plot -- notice the shape\n",
        "\n",
        "plt_sample_batch = normal_diag_batch.sample(10000)\n"
      ],
      "execution_count": null,
      "outputs": []
    },
    {
      "cell_type": "code",
      "metadata": {
        "id": "29ZCx-AEsgnJ",
        "colab": {
          "base_uri": "https://localhost:8080/",
          "height": 227
        },
        "outputId": "c4824689-a2a6-4050-8117-69594c9d5c19"
      },
      "source": [
        "# Plot samples from the batched multivariate Gaussian\n",
        "\n",
        "fig, axs = (plt.subplots(1, 3, sharex=True, sharey=True, figsize=(10, 3)))\n",
        "titles = ['cov_diag=[1, 2]','cov_diag=[2, 1]', 'cov_diag=[2, 2]']\n",
        "\n",
        "for i, (ax, title) in enumerate(zip(axs,titles)):\n",
        "    samples = plt_sample_batch[:,i,:] #take the ith batch [samples x event_shape]\n",
        "    ax.scatter(samples[:, 0], samples[:, 1], marker='.', alpha=0.05)\n",
        "    ax.set_title(title)\n",
        "plt.show()"
      ],
      "execution_count": null,
      "outputs": [
        {
          "output_type": "display_data",
          "data": {
            "text/plain": [
              "<Figure size 720x216 with 3 Axes>"
            ],
            "image/png": "[encoded data removed]"
          },
          "metadata": {
            "needs_background": "light"
          }
        }
      ]
    },
    {
      "cell_type": "markdown",
      "metadata": {
        "id": "v15LR-_WsgnL"
      },
      "source": [
        "\n",
        "\n",
        "***\n",
        "<a id='the_independent_distribution'></a>\n",
        "## The Independent Distribution"
      ]
    },
    {
      "cell_type": "code",
      "metadata": {
        "id": "qqIvyoQisgnL",
        "colab": {
          "base_uri": "https://localhost:8080/"
        },
        "outputId": "a6acb324-02da-4e87-e2c3-53fd61f7863c"
      },
      "source": [
        "# Start by defining a batch of two univariate Gaussians, then\n",
        "# combine them into a bivariate Gaussian with independent components\n",
        "locs = [-1,1]\n",
        "scales = [0.5, 1.]\n",
        "batch_of_normals = tfd.Normal(loc=locs, scale=scales)\n",
        "batch_of_normals"
      ],
      "execution_count": 56,
      "outputs": [
        {
          "output_type": "execute_result",
          "data": {
            "text/plain": [
              "<tfp.distributions.Normal 'Normal' batch_shape=[2] event_shape=[] dtype=float32>"
            ]
          },
          "metadata": {},
          "execution_count": 56
        }
      ]
    },
    {
      "cell_type": "code",
      "source": [
        "\n",
        "batch_of_normals.prob([0,0])"
      ],
      "metadata": {
        "colab": {
          "base_uri": "https://localhost:8080/"
        },
        "id": "LDdkIye5hktw",
        "outputId": "02c577d4-449c-4290-ac14-da2a69ea2baa"
      },
      "execution_count": 58,
      "outputs": [
        {
          "output_type": "execute_result",
          "data": {
            "text/plain": [
              "<tf.Tensor: shape=(2,), dtype=float32, numpy=array([0.10798192, 0.24197073], dtype=float32)>"
            ]
          },
          "metadata": {},
          "execution_count": 58
        }
      ]
    },
    {
      "cell_type": "code",
      "source": [
        "\n",
        "batch_of_normals.sample()"
      ],
      "metadata": {
        "colab": {
          "base_uri": "https://localhost:8080/"
        },
        "id": "QSrtUY9OhBbY",
        "outputId": "e3304c7a-ccd7-4482-a69e-10b226967182"
      },
      "execution_count": null,
      "outputs": [
        {
          "output_type": "execute_result",
          "data": {
            "text/plain": [
              "<tf.Tensor: shape=(2,), dtype=float32, numpy=array([-0.1707989,  3.1904151], dtype=float32)>"
            ]
          },
          "metadata": {},
          "execution_count": 81
        }
      ]
    },
    {
      "cell_type": "code",
      "source": [
        "\n",
        "t"
      ],
      "metadata": {
        "colab": {
          "base_uri": "https://localhost:8080/"
        },
        "id": "twVZU-Gdhwdx",
        "outputId": "37e3c4a1-2c65-4589-a26c-0ac4852c90e1"
      },
      "execution_count": null,
      "outputs": [
        {
          "output_type": "execute_result",
          "data": {
            "text/plain": [
              "array([-4.        , -3.11111111, -2.22222222, -1.33333333, -0.44444444,\n",
              "        0.44444444,  1.33333333,  2.22222222,  3.11111111,  4.        ])"
            ]
          },
          "metadata": {},
          "execution_count": 85
        }
      ]
    },
    {
      "cell_type": "code",
      "source": [
        "t = np.linspace(-4, 4, 10)\n",
        "np.repeat(t[:, np.newaxis], 2, axis=1)"
      ],
      "metadata": {
        "colab": {
          "base_uri": "https://localhost:8080/"
        },
        "id": "j9PyPQz2hsnF",
        "outputId": "cd40817d-0e52-4cac-80c8-0925e6e584b1"
      },
      "execution_count": 59,
      "outputs": [
        {
          "output_type": "execute_result",
          "data": {
            "text/plain": [
              "array([[-4.        , -4.        ],\n",
              "       [-3.11111111, -3.11111111],\n",
              "       [-2.22222222, -2.22222222],\n",
              "       [-1.33333333, -1.33333333],\n",
              "       [-0.44444444, -0.44444444],\n",
              "       [ 0.44444444,  0.44444444],\n",
              "       [ 1.33333333,  1.33333333],\n",
              "       [ 2.22222222,  2.22222222],\n",
              "       [ 3.11111111,  3.11111111],\n",
              "       [ 4.        ,  4.        ]])"
            ]
          },
          "metadata": {},
          "execution_count": 59
        }
      ]
    },
    {
      "cell_type": "code",
      "metadata": {
        "id": "jaT90a68sgnM",
        "colab": {
          "base_uri": "https://localhost:8080/",
          "height": 403
        },
        "outputId": "4e4ec7b2-3d82-4311-b532-939d45765812"
      },
      "source": [
        "# Univariate density functions\n",
        "\n",
        "import seaborn as sns\n",
        "\n",
        "t = np.linspace(-4, 4, 10000)\n",
        "densities = batch_of_normals.prob(np.repeat(t[:, np.newaxis], 2, axis=1)) # each column is a vector of densities for one distn\n",
        "\n",
        "sns.lineplot(t, densities[:, 0], label='loc={}, scale={}'.format(locs[0], scales[0]))\n",
        "sns.lineplot(t, densities[:, 1], label='loc={}, scale={}'.format(locs[0], scales[0]))\n",
        "sns.lineplot(t, densities[:, 0] * densities[:, 1], label='mul')\n",
        "\n",
        "plt.ylabel('Probability density')\n",
        "plt.xlabel('Value')\n",
        "plt.legend()\n",
        "plt.show()"
      ],
      "execution_count": 85,
      "outputs": [
        {
          "output_type": "stream",
          "name": "stderr",
          "text": [
            "/usr/local/lib/python3.7/dist-packages/seaborn/_decorators.py:43: FutureWarning: Pass the following variables as keyword args: x, y. From version 0.12, the only valid positional argument will be `data`, and passing other arguments without an explicit keyword will result in an error or misinterpretation.\n",
            "  FutureWarning\n",
            "/usr/local/lib/python3.7/dist-packages/seaborn/_decorators.py:43: FutureWarning: Pass the following variables as keyword args: x, y. From version 0.12, the only valid positional argument will be `data`, and passing other arguments without an explicit keyword will result in an error or misinterpretation.\n",
            "  FutureWarning\n",
            "/usr/local/lib/python3.7/dist-packages/seaborn/_decorators.py:43: FutureWarning: Pass the following variables as keyword args: x, y. From version 0.12, the only valid positional argument will be `data`, and passing other arguments without an explicit keyword will result in an error or misinterpretation.\n",
            "  FutureWarning\n"
          ]
        },
        {
          "output_type": "display_data",
          "data": {
            "text/plain": [
              "<Figure size 432x288 with 1 Axes>"
            ],
            "image/png": "[encoded data removed]"
          },
          "metadata": {
            "needs_background": "light"
          }
        }
      ]
    },
    {
      "cell_type": "code",
      "metadata": {
        "id": "sb8KnB3TsgnP",
        "colab": {
          "base_uri": "https://localhost:8080/"
        },
        "outputId": "41424a4e-5b0d-4a07-a47d-9bcbdb3dc2cf"
      },
      "source": [
        "# Check their batch_shape and event_shape\n",
        "batch_of_normals\n"
      ],
      "execution_count": 61,
      "outputs": [
        {
          "output_type": "execute_result",
          "data": {
            "text/plain": [
              "<tfp.distributions.Normal 'Normal' batch_shape=[2] event_shape=[] dtype=float32>"
            ]
          },
          "metadata": {},
          "execution_count": 61
        }
      ]
    },
    {
      "cell_type": "code",
      "metadata": {
        "id": "7CyvW3SqsgnQ",
        "colab": {
          "base_uri": "https://localhost:8080/"
        },
        "outputId": "4033f45b-f29b-48de-fc4f-3377b75e416d"
      },
      "source": [
        "# Use Independent to convert the batch shape to the event shape\n",
        "\n",
        "bivariate_normal_from_Independent = tfd.Independent(batch_of_normals, reinterpreted_batch_ndims=1)\n",
        "bivariate_normal_from_Independent"
      ],
      "execution_count": 67,
      "outputs": [
        {
          "output_type": "execute_result",
          "data": {
            "text/plain": [
              "<tfp.distributions.Independent 'IndependentNormal' batch_shape=[] event_shape=[2] dtype=float32>"
            ]
          },
          "metadata": {},
          "execution_count": 67
        }
      ]
    },
    {
      "cell_type": "code",
      "source": [
        "\n",
        "t0 = np.transpose([np.linspace(-4, 4, 1000)])"
      ],
      "metadata": {
        "id": "XzwXoCysJhjx"
      },
      "execution_count": 87,
      "outputs": []
    },
    {
      "cell_type": "code",
      "metadata": {
        "id": "im8kLlywsgnS"
      },
      "source": [
        "# Note that dimension from batch_shape has shifted to event_shape\n",
        "probs = bivariate_normal_from_Independent.prob(t0)\n"
      ],
      "execution_count": 88,
      "outputs": []
    },
    {
      "cell_type": "code",
      "source": [
        ""
      ],
      "metadata": {
        "id": "6Yo45RcYLAGB"
      },
      "execution_count": null,
      "outputs": []
    },
    {
      "cell_type": "code",
      "source": [
        "sns.lineplot(t, densities[:, 0] * densities[:, 1], label='mul')\n",
        "plt.plot(t0,probs+0.01)"
      ],
      "metadata": {
        "colab": {
          "base_uri": "https://localhost:8080/",
          "height": 337
        },
        "id": "ExRVWhKKKNYI",
        "outputId": "cee49fe4-9e0c-434c-b496-d791290f755d"
      },
      "execution_count": 90,
      "outputs": [
        {
          "output_type": "stream",
          "name": "stderr",
          "text": [
            "/usr/local/lib/python3.7/dist-packages/seaborn/_decorators.py:43: FutureWarning: Pass the following variables as keyword args: x, y. From version 0.12, the only valid positional argument will be `data`, and passing other arguments without an explicit keyword will result in an error or misinterpretation.\n",
            "  FutureWarning\n"
          ]
        },
        {
          "output_type": "execute_result",
          "data": {
            "text/plain": [
              "[<matplotlib.lines.Line2D at 0x7fce485dc490>]"
            ]
          },
          "metadata": {},
          "execution_count": 90
        },
        {
          "output_type": "display_data",
          "data": {
            "text/plain": [
              "<Figure size 432x288 with 1 Axes>"
            ],
            "image/png": "[encoded data removed]"
          },
          "metadata": {
            "needs_background": "light"
          }
        }
      ]
    },
    {
      "cell_type": "code",
      "source": [
        "\n",
        "bivariate_normal_from_Independent.prob()"
      ],
      "metadata": {
        "id": "vVCwXxn_JK2p"
      },
      "execution_count": null,
      "outputs": []
    },
    {
      "cell_type": "code",
      "metadata": {
        "id": "qtfBXAUYsgnT",
        "colab": {
          "base_uri": "https://localhost:8080/",
          "height": 513
        },
        "outputId": "89963cf7-45a3-4863-ed0a-925d55ffc91a"
      },
      "source": [
        "# Create a plot showing joint density contours and marginal density functions\n",
        "\n",
        "samples = bivariate_normal_from_Independent.sample(1000)\n",
        "x1 = samples[:, 0]\n",
        "x2 = samples[:, 1]\n",
        "sns.jointplot(x1, x2, kind=\"kde\", space=0, color='b', xlim=[-4, 4], ylim=[-4, 4])"
      ],
      "execution_count": null,
      "outputs": [
        {
          "output_type": "stream",
          "name": "stderr",
          "text": [
            "/usr/local/lib/python3.7/dist-packages/seaborn/_decorators.py:43: FutureWarning: Pass the following variables as keyword args: x, y. From version 0.12, the only valid positional argument will be `data`, and passing other arguments without an explicit keyword will result in an error or misinterpretation.\n",
            "  FutureWarning\n"
          ]
        },
        {
          "output_type": "execute_result",
          "data": {
            "text/plain": [
              "<seaborn.axisgrid.JointGrid at 0x7f9bba802fd0>"
            ]
          },
          "metadata": {},
          "execution_count": 90
        },
        {
          "output_type": "display_data",
          "data": {
            "text/plain": [
              "<Figure size 432x432 with 3 Axes>"
            ],
            "image/png": "[encoded data removed]"
          },
          "metadata": {
            "needs_background": "light"
          }
        }
      ]
    },
    {
      "cell_type": "code",
      "metadata": {
        "id": "sDDoW3nksgnU",
        "colab": {
          "base_uri": "https://localhost:8080/"
        },
        "outputId": "2e6fa938-a867-4b43-a0fa-1c1740be279a"
      },
      "source": [
        "# Use MultivariateNormalDiag to create the equivalent distribution\n",
        "# Note that diagonal covariance matrix => no correlation => independence (for the multivariate normal distribution)\n",
        "bivariate_normal_from_Multivariate = tfd.MultivariateNormalDiag(loc=locs, scale_diag=scales)\n",
        "bivariate_normal_from_Multivariate"
      ],
      "execution_count": null,
      "outputs": [
        {
          "output_type": "execute_result",
          "data": {
            "text/plain": [
              "<tfp.distributions.MultivariateNormalDiag 'MultivariateNormalDiag' batch_shape=[] event_shape=[2] dtype=float32>"
            ]
          },
          "metadata": {},
          "execution_count": 91
        }
      ]
    },
    {
      "cell_type": "code",
      "metadata": {
        "id": "qZUJ1ftjsgnV",
        "colab": {
          "base_uri": "https://localhost:8080/",
          "height": 513
        },
        "outputId": "ba339131-0626-453f-fdcd-659073b808f8"
      },
      "source": [
        "# Plot the joint density function of bivariate_normal_from_Independent\n",
        "# Refer back to bivariate_normal_from_Independent to show that the plot is the same\n",
        "# Summarise how Independent has been used\n",
        "\n",
        "samples = bivariate_normal_from_Multivariate.sample(1000)\n",
        "x1 = samples[:, 0]\n",
        "x2 = samples[:, 1]\n",
        "sns.jointplot(x1, x2, kind=\"kde\", space=0, color='b', xlim=[-4, 4], ylim=[-4, 4])"
      ],
      "execution_count": null,
      "outputs": [
        {
          "output_type": "stream",
          "name": "stderr",
          "text": [
            "/usr/local/lib/python3.7/dist-packages/seaborn/_decorators.py:43: FutureWarning: Pass the following variables as keyword args: x, y. From version 0.12, the only valid positional argument will be `data`, and passing other arguments without an explicit keyword will result in an error or misinterpretation.\n",
            "  FutureWarning\n"
          ]
        },
        {
          "output_type": "execute_result",
          "data": {
            "text/plain": [
              "<seaborn.axisgrid.JointGrid at 0x7f9bba85c050>"
            ]
          },
          "metadata": {},
          "execution_count": 93
        },
        {
          "output_type": "display_data",
          "data": {
            "text/plain": [
              "<Figure size 432x432 with 3 Axes>"
            ],
            "image/png": "[encoded data removed]"
          },
          "metadata": {
            "needs_background": "light"
          }
        }
      ]
    },
    {
      "cell_type": "markdown",
      "metadata": {
        "id": "c1V8udtysgnW"
      },
      "source": [
        "#### Shifting batch dimensions to event dimensions using \n",
        "`reinterpreted_batch_ndims`"
      ]
    },
    {
      "cell_type": "code",
      "source": [
        "tt = tfd.Normal(loc=[0,0], scale=[1,1])\n",
        "probb =tt.prob([1,0.5])\n",
        "probb"
      ],
      "metadata": {
        "colab": {
          "base_uri": "https://localhost:8080/"
        },
        "id": "sSoh1zqV-CdW",
        "outputId": "77ac5a02-78a6-448e-e353-0c0ec232c3eb"
      },
      "execution_count": null,
      "outputs": [
        {
          "output_type": "execute_result",
          "data": {
            "text/plain": [
              "<tf.Tensor: shape=(2,), dtype=float32, numpy=array([0.24197073, 0.35206532], dtype=float32)>"
            ]
          },
          "metadata": {},
          "execution_count": 18
        }
      ]
    },
    {
      "cell_type": "code",
      "source": [
        "tt2 = tfd.Independent(tt, reinterpreted_batch_ndims=1)\n",
        "tt2.prob([1,0.5])"
      ],
      "metadata": {
        "colab": {
          "base_uri": "https://localhost:8080/"
        },
        "id": "qLMt9f_5-IxE",
        "outputId": "cafc8ab5-1408-4d3b-fcec-97c2a98c349e"
      },
      "execution_count": null,
      "outputs": [
        {
          "output_type": "execute_result",
          "data": {
            "text/plain": [
              "<tf.Tensor: shape=(), dtype=float32, numpy=0.08518951>"
            ]
          },
          "metadata": {},
          "execution_count": 16
        }
      ]
    },
    {
      "cell_type": "code",
      "source": [
        "tf.math.multiply(*probb)"
      ],
      "metadata": {
        "colab": {
          "base_uri": "https://localhost:8080/"
        },
        "id": "fczgQwnY_a1p",
        "outputId": "aa4c853e-30b3-4e64-933a-479468a16cac"
      },
      "execution_count": null,
      "outputs": [
        {
          "output_type": "execute_result",
          "data": {
            "text/plain": [
              "<tf.Tensor: shape=(), dtype=float32, numpy=0.08518951>"
            ]
          },
          "metadata": {},
          "execution_count": 23
        }
      ]
    },
    {
      "cell_type": "code",
      "metadata": {
        "id": "f-OWFMj4sgnW"
      },
      "source": [
        "# Demonstrate use of reinterpreted_batch_ndims\n",
        "# By default all batch dims except the first are transferred to event dims\n",
        "\n",
        "loc_grid = [[-100., -100.],\n",
        "            [100., 100.],\n",
        "            [0., 0.]]\n",
        "scale_grid = [[1., 10.],\n",
        "              [1., 10.],\n",
        "              [1., 1.]]\n",
        "\n",
        "normals_batch_3by2_event_1 = tfd.Normal(loc=loc_grid, scale=scale_grid)"
      ],
      "execution_count": null,
      "outputs": []
    },
    {
      "cell_type": "code",
      "metadata": {
        "id": "UXlQmUKFsgnX",
        "colab": {
          "base_uri": "https://localhost:8080/"
        },
        "outputId": "9f775c50-3cc6-440c-d980-c0157cb93094"
      },
      "source": [
        "# Highlight batch_shape\n",
        "normals_batch_3by2_event_1\n"
      ],
      "execution_count": null,
      "outputs": [
        {
          "output_type": "execute_result",
          "data": {
            "text/plain": [
              "<tfp.distributions.Normal 'Normal' batch_shape=[3, 2] event_shape=[] dtype=float32>"
            ]
          },
          "metadata": {},
          "execution_count": 95
        }
      ]
    },
    {
      "cell_type": "code",
      "metadata": {
        "id": "oUEDQM7WsgnY",
        "colab": {
          "base_uri": "https://localhost:8080/"
        },
        "outputId": "eab27d54-18de-427f-ec4d-01dfe769225e"
      },
      "source": [
        "# We now have a batch of 3 bivariate normal distributions,\n",
        "# each parametrised by a column of our original parameter grid\n",
        "normals_batch_3by2_event_2 = tfd.Independent(normals_batch_3by2_event_1)\n",
        "normals_batch_3by2_event_2"
      ],
      "execution_count": null,
      "outputs": [
        {
          "output_type": "execute_result",
          "data": {
            "text/plain": [
              "<tfp.distributions.Independent 'IndependentNormal' batch_shape=[3] event_shape=[2] dtype=float32>"
            ]
          },
          "metadata": {},
          "execution_count": 98
        }
      ]
    },
    {
      "cell_type": "code",
      "metadata": {
        "id": "lFITioyHsgnb",
        "colab": {
          "base_uri": "https://localhost:8080/"
        },
        "outputId": "e563aac6-3fab-45a9-a4f7-8784ce6980a4"
      },
      "source": [
        "# Evaluate log_prob\n",
        "normals_batch_3by2_event_2.log_prob([[-10,10],[100,100],[1,1]])\n"
      ],
      "execution_count": null,
      "outputs": [
        {
          "output_type": "execute_result",
          "data": {
            "text/plain": [
              "<tf.Tensor: shape=(3,), dtype=float32, numpy=array([-4.1146406e+03, -4.1404624e+00, -2.8378770e+00], dtype=float32)>"
            ]
          },
          "metadata": {},
          "execution_count": 99
        }
      ]
    },
    {
      "cell_type": "code",
      "metadata": {
        "id": "C_xWA4Bfsgnd"
      },
      "source": [
        "# Can reinterpret _all_ batch dimensions as event dimensions\n",
        "\n"
      ],
      "execution_count": null,
      "outputs": []
    },
    {
      "cell_type": "code",
      "metadata": {
        "id": "s6K5yss3sgne"
      },
      "source": [
        "# Take log_probs \n",
        "\n"
      ],
      "execution_count": null,
      "outputs": []
    },
    {
      "cell_type": "markdown",
      "metadata": {
        "id": "_7tvenxCsgnf"
      },
      "source": [
        "#### Using `Independent` to build a Naive Bayes classifier"
      ]
    },
    {
      "cell_type": "markdown",
      "metadata": {
        "id": "4jzAd6-Psgnf"
      },
      "source": [
        "#### Introduction to `newsgroups` data set"
      ]
    },
    {
      "cell_type": "markdown",
      "metadata": {
        "id": "Qk_-dUZdsgnf"
      },
      "source": [
        "In this tutorial, just load the dataset, fetch train/test splits, probably choose a subset of the data.\n",
        "\n",
        "Construct the class conditional feature distribution (with Independent, using the Naive Bayes assumption) and sample from it.\n",
        "\n",
        "We can just use the ML estimates for parameters, in later tutorials we will learn them."
      ]
    },
    {
      "cell_type": "markdown",
      "metadata": {
        "id": "MwrKvmvyttQ7"
      },
      "source": [
        "#### Import the data\n",
        "\n",
        "The dataset required for this coding tutorial can be downloaded from the following link:\n",
        "\n",
        "https://drive.google.com/file/d/1ZdVZFZv3eEw3Duwjg4fvtYAsgySoCRIm/view?usp=sharing\n",
        "\n",
        "You should store this file in Drive for use in this Colab notebook."
      ]
    },
    {
      "cell_type": "code",
      "metadata": {
        "id": "L4LRNRbrttqt",
        "colab": {
          "base_uri": "https://localhost:8080/"
        },
        "outputId": "1427d0ec-3624-46c2-d39c-b863606de6f2"
      },
      "source": [
        "# Run this cell to connect to your Drive folder\n",
        "\n",
        "from google.colab import drive\n",
        "drive.mount('/content/gdrive')"
      ],
      "execution_count": null,
      "outputs": [
        {
          "output_type": "stream",
          "name": "stdout",
          "text": [
            "Mounted at /content/gdrive\n"
          ]
        }
      ]
    },
    {
      "cell_type": "code",
      "metadata": {
        "id": "_-dUDWtnsgng"
      },
      "source": [
        "# Convenience function for retrieving the 20 newsgroups data set\n",
        "\n",
        "# Usenet was a forerunner to modern internet forums\n",
        "# Users could post and read articles\n",
        "# Newsgroup corresponded to a topic\n",
        "# Example topics in this data set: IBM computer hardware, baseball\n",
        "# Our objective is to use an article's contents to predict its newsgroup,\n",
        "# a 20-class classification problem.\n",
        "\n",
        "# 18000 newsgroups, posts on 20 topics\n",
        "from sklearn.datasets import fetch_20newsgroups\n",
        "from sklearn.feature_extraction.text import CountVectorizer\n"
      ],
      "execution_count": null,
      "outputs": []
    },
    {
      "cell_type": "code",
      "metadata": {
        "id": "D0d-Wj2hsgnh"
      },
      "source": [
        "# Get the train data\n",
        "\n",
        "data = fetch_20newsgroups(data_home=\"20_Newsgroup_Data/\", subset=\"train\")"
      ],
      "execution_count": null,
      "outputs": []
    },
    {
      "cell_type": "code",
      "metadata": {
        "id": "IR7YHcJ1sgni"
      },
      "source": [
        "# More information about the data set\n",
        "# print(data[\"DESCR\"])"
      ],
      "execution_count": null,
      "outputs": []
    },
    {
      "cell_type": "code",
      "metadata": {
        "id": "WKp4Q_bCsgnk",
        "colab": {
          "base_uri": "https://localhost:8080/"
        },
        "outputId": "f8a77adb-a4eb-4da3-adad-799ed3403ee4"
      },
      "source": [
        "# Example article\n",
        "print(data[\"data\"][0])\n"
      ],
      "execution_count": null,
      "outputs": [
        {
          "output_type": "stream",
          "name": "stdout",
          "text": [
            "From: lerxst@wam.umd.edu (where's my thing)\n",
            "Subject: WHAT car is this!?\n",
            "Nntp-Posting-Host: rac3.wam.umd.edu\n",
            "Organization: University of Maryland, College Park\n",
            "Lines: 15\n",
            "\n",
            " I was wondering if anyone out there could enlighten me on this car I saw\n",
            "the other day. It was a 2-door sports car, looked to be from the late 60s/\n",
            "early 70s. It was called a Bricklin. The doors were really small. In addition,\n",
            "the front bumper was separate from the rest of the body. This is \n",
            "all I know. If anyone can tellme a model name, engine specs, years\n",
            "of production, where this car is made, history, or whatever info you\n",
            "have on this funky looking car, please e-mail.\n",
            "\n",
            "Thanks,\n",
            "- IL\n",
            "   ---- brought to you by your neighborhood Lerxst ----\n",
            "\n",
            "\n",
            "\n",
            "\n",
            "\n"
          ]
        }
      ]
    },
    {
      "cell_type": "code",
      "metadata": {
        "id": "iPCUCncZsgnm",
        "colab": {
          "base_uri": "https://localhost:8080/"
        },
        "outputId": "7cf37cb4-7608-4a9c-eaa8-6b2cc6718578"
      },
      "source": [
        "# Associated label\n",
        "\n",
        "data[\"target\"][0]"
      ],
      "execution_count": null,
      "outputs": [
        {
          "output_type": "execute_result",
          "data": {
            "text/plain": [
              "7"
            ]
          },
          "metadata": {},
          "execution_count": 107
        }
      ]
    },
    {
      "cell_type": "code",
      "metadata": {
        "id": "CZ9aB7VIsgnn",
        "colab": {
          "base_uri": "https://localhost:8080/",
          "height": 35
        },
        "outputId": "db783511-1af8-4eb5-e26f-fd15e8f86e69"
      },
      "source": [
        "# Name of label\n",
        "data[\"target_names\"][7]\n"
      ],
      "execution_count": null,
      "outputs": [
        {
          "output_type": "execute_result",
          "data": {
            "text/plain": [
              "'rec.autos'"
            ],
            "application/vnd.google.colaboratory.intrinsic+json": {
              "type": "string"
            }
          },
          "metadata": {},
          "execution_count": 108
        }
      ]
    },
    {
      "cell_type": "code",
      "source": [
        "\n",
        "newsgroups_data = data"
      ],
      "metadata": {
        "id": "Ihn1n8__kG-3"
      },
      "execution_count": null,
      "outputs": []
    },
    {
      "cell_type": "code",
      "metadata": {
        "id": "oWJh8srlsgnp"
      },
      "source": [
        "# Preprocessing boilerplate\n",
        "\n",
        "n_documents = len(newsgroups_data['data'])\n",
        "\n",
        "count_vectorizer = CountVectorizer(input='content', binary=True,\n",
        "                                   max_df=0.25, min_df=1.01/n_documents) # ignore common words, words that appear once\n",
        "binary_bag_of_words = count_vectorizer.fit_transform(newsgroups_data['data']) # input is a list of strings\n"
      ],
      "execution_count": null,
      "outputs": []
    },
    {
      "cell_type": "code",
      "source": [
        "\n",
        "binary_bag_of_words[0,:]"
      ],
      "metadata": {
        "colab": {
          "base_uri": "https://localhost:8080/"
        },
        "id": "XG3yG6jONs04",
        "outputId": "95273d24-041b-49c3-95d1-2bcbb57ddf9a"
      },
      "execution_count": null,
      "outputs": [
        {
          "output_type": "execute_result",
          "data": {
            "text/plain": [
              "<1x56365 sparse matrix of type '<class 'numpy.int64'>'\n",
              "\twith 55 stored elements in Compressed Sparse Row format>"
            ]
          },
          "metadata": {},
          "execution_count": 42
        }
      ]
    },
    {
      "cell_type": "code",
      "source": [
        "\n",
        "n_documents"
      ],
      "metadata": {
        "colab": {
          "base_uri": "https://localhost:8080/"
        },
        "id": "zc4mfYOINT3j",
        "outputId": "e7a4a1db-b11e-4825-efab-f0e74ad4adc1"
      },
      "execution_count": null,
      "outputs": [
        {
          "output_type": "execute_result",
          "data": {
            "text/plain": [
              "11314"
            ]
          },
          "metadata": {},
          "execution_count": 35
        }
      ]
    },
    {
      "cell_type": "code",
      "metadata": {
        "id": "9r2-u5rhsgnq",
        "colab": {
          "base_uri": "https://localhost:8080/"
        },
        "outputId": "364f7903-02bd-4545-a6f4-28d6622c4a07"
      },
      "source": [
        "# Check shape\n",
        "binary_bag_of_words.shape\n"
      ],
      "execution_count": null,
      "outputs": [
        {
          "output_type": "execute_result",
          "data": {
            "text/plain": [
              "(11314, 56365)"
            ]
          },
          "metadata": {},
          "execution_count": 111
        }
      ]
    },
    {
      "cell_type": "code",
      "source": [
        "\n",
        "binary_bag_of_words[0,:].shape"
      ],
      "metadata": {
        "colab": {
          "base_uri": "https://localhost:8080/"
        },
        "id": "LbrSjTZNN_dw",
        "outputId": "8a4f5944-0ff0-49d6-c6e7-66b4e836fc8f"
      },
      "execution_count": null,
      "outputs": [
        {
          "output_type": "execute_result",
          "data": {
            "text/plain": [
              "(1, 56365)"
            ]
          },
          "metadata": {},
          "execution_count": 46
        }
      ]
    },
    {
      "cell_type": "code",
      "source": [
        "\n",
        "print(binary_bag_of_words[0,31701])"
      ],
      "metadata": {
        "colab": {
          "base_uri": "https://localhost:8080/"
        },
        "id": "o1LCP7uhkTmH",
        "outputId": "4d60e922-1dc6-4fd9-d9a8-9922d0398ebf"
      },
      "execution_count": null,
      "outputs": [
        {
          "output_type": "stream",
          "name": "stdout",
          "text": [
            "1\n"
          ]
        }
      ]
    },
    {
      "cell_type": "code",
      "metadata": {
        "id": "eM0RVq-Isgnr",
        "colab": {
          "base_uri": "https://localhost:8080/"
        },
        "outputId": "562f67f0-3f3c-42e2-f932-2eb78ccc5fa1"
      },
      "source": [
        "#Check that the fit has been successful\n",
        "count_vectorizer.inverse_transform(binary_bag_of_words[0,:])"
      ],
      "execution_count": null,
      "outputs": [
        {
          "output_type": "execute_result",
          "data": {
            "text/plain": [
              "[array(['lerxst', 'wam', 'umd', 'where', 'thing', 'car', 'rac3',\n",
              "        'maryland', 'college', 'park', '15', 'wondering', 'anyone',\n",
              "        'could', 'enlighten', 'saw', 'day', 'door', 'sports', 'looked',\n",
              "        'late', '60s', 'early', '70s', 'called', 'bricklin', 'doors',\n",
              "        'were', 'really', 'small', 'addition', 'front', 'bumper',\n",
              "        'separate', 'rest', 'body', 'tellme', 'model', 'name', 'engine',\n",
              "        'specs', 'years', 'production', 'made', 'history', 'whatever',\n",
              "        'info', 'funky', 'looking', 'please', 'mail', 'thanks', 'il',\n",
              "        'brought', 'neighborhood'], dtype='<U80')]"
            ]
          },
          "metadata": {},
          "execution_count": 56
        }
      ]
    },
    {
      "cell_type": "code",
      "metadata": {
        "id": "eUY3VFePsgns"
      },
      "source": [
        "# Dict that will be useful later \n",
        "\n",
        "inv_vocabulary = {value:key for key, value in count_vectorizer.vocabulary_.items()}"
      ],
      "execution_count": null,
      "outputs": []
    },
    {
      "cell_type": "code",
      "source": [
        ""
      ],
      "metadata": {
        "id": "tuwwFuZrdoEl"
      },
      "execution_count": null,
      "outputs": []
    },
    {
      "cell_type": "markdown",
      "metadata": {
        "id": "sVO1Mphnsgns"
      },
      "source": [
        "#### A Naive Bayes classifier for `newsgroup`"
      ]
    },
    {
      "cell_type": "markdown",
      "metadata": {
        "id": "TJt1qOpdsgnt"
      },
      "source": [
        "Each feature vector $x$ is a list of indicators for whether a word appears in the article. $x_i$ is 1 if the $i$th word appears, and 0 otherwise. `inv_vocabulary` matches word indices $i$ to words.\n",
        "\n",
        "Each label $y$ is a value in $0, 1, \\ldots, 19$.\n",
        "\n",
        "The parts of a naive Bayes classifier for this problem can be summarised as:  \n",
        "\n",
        "\n",
        "- A probability distribution for the feature vector by class, $p(x|y = j)$ for each $j = 0, 1, \\ldots, 19$. These probability distributions are assumed to have independent components: we can factorize the joint probability as a product of marginal probabilities\n",
        "\\begin{equation}\n",
        "    p(x|y = j) = \\prod_{i=1}^d p(x_i|y = j)\n",
        "\\end{equation}\n",
        "These marginal probability distributions are Bernoulli distributions, each of which has a single parameter $\\theta_{ji} := p(x_i = 1|y = j)$. This parameter is the probability of observing word $i$ in an article of class $j$. \n",
        "\n",
        "- We will use the Laplace smoothed maximum likelihood estimate to compute these parameters. Laplace smoothing involves adding small counts to every feature for each class. Else, if a feature did not appear in the training set of a class, but then we observed it in our test data the log probability would be undefined.\n",
        "\n",
        "- A collection of class prior probabilities $p(y = j)$. These will be set by computing the class base rates in the training set.  \n",
        "\n",
        "\n",
        "- A function for computing the probability of class membership via Bayes' theorem:  \n",
        "\n",
        "\\begin{equation}\n",
        "    p(y = j|x) = \\frac{p(x|y = j)p(y = j)}{p(x)}\n",
        "\\end{equation}"
      ]
    },
    {
      "cell_type": "code",
      "metadata": {
        "id": "a-3QNrIusgnt"
      },
      "source": [
        "# Compute the parameter estimates (adjusted fraction of documents in class that contain word)\n",
        "\n",
        "n_classes = newsgroups_data['target'].max() + 1\n",
        "y = newsgroups_data['target']\n",
        "n_words = binary_bag_of_words.shape[1]\n",
        "\n",
        "alpha = 1e-6 # parameters for Laplace smoothing\n",
        "\n",
        "theta = np.zeros([n_classes, n_words]) # stores parameter values - prob. word given class\n",
        "for c_k in range(n_classes): # 0, 1, ..., 19\n",
        "    class_mask = (y == c_k)\n",
        "    N = class_mask.sum() # number of articles in class\n",
        "    theta[c_k, :] = (binary_bag_of_words[class_mask, :].sum(axis=0) + alpha)/(N + alpha*2) # 2: 0 or 1 is the # possible output"
      ],
      "execution_count": null,
      "outputs": []
    },
    {
      "cell_type": "code",
      "source": [
        "\n",
        "n_classes"
      ],
      "metadata": {
        "colab": {
          "base_uri": "https://localhost:8080/"
        },
        "id": "RE1NSx-WXKg3",
        "outputId": "e22e3f8a-d4bd-4a3a-b0c3-a6737ba3160b"
      },
      "execution_count": null,
      "outputs": [
        {
          "output_type": "execute_result",
          "data": {
            "text/plain": [
              "20"
            ]
          },
          "metadata": {},
          "execution_count": 61
        }
      ]
    },
    {
      "cell_type": "code",
      "source": [
        "\n",
        "j"
      ],
      "metadata": {
        "colab": {
          "base_uri": "https://localhost:8080/"
        },
        "id": "iCsVen8-dtJm",
        "outputId": "4bcb0ff7-7940-4774-c956-61da50adfadb"
      },
      "execution_count": null,
      "outputs": [
        {
          "output_type": "execute_result",
          "data": {
            "text/plain": [
              "19"
            ]
          },
          "metadata": {},
          "execution_count": 70
        }
      ]
    },
    {
      "cell_type": "code",
      "source": [
        "\n",
        "ix"
      ],
      "metadata": {
        "colab": {
          "base_uri": "https://localhost:8080/"
        },
        "id": "xHaIIZqDduJV",
        "outputId": "daa46256-cdc4-4a03-f3fe-595885bf4686"
      },
      "execution_count": null,
      "outputs": [
        {
          "output_type": "execute_result",
          "data": {
            "text/plain": [
              "25977"
            ]
          },
          "metadata": {},
          "execution_count": 71
        }
      ]
    },
    {
      "cell_type": "code",
      "source": [
        "\n",
        "theta[19, 25977]"
      ],
      "metadata": {
        "colab": {
          "base_uri": "https://localhost:8080/"
        },
        "id": "4AYkQF5gdyGe",
        "outputId": "012cb6b0-0722-45cc-9f77-c1a7d03f1986"
      },
      "execution_count": null,
      "outputs": [
        {
          "output_type": "execute_result",
          "data": {
            "text/plain": [
              "0.4190981436652618"
            ]
          },
          "metadata": {},
          "execution_count": 73
        }
      ]
    },
    {
      "cell_type": "code",
      "metadata": {
        "id": "qrtP9pbCsgnv",
        "colab": {
          "base_uri": "https://localhost:8080/"
        },
        "outputId": "8236ac61-6139-4888-b9b0-d15044e71bac"
      },
      "source": [
        "# Check whether the most probable word in each class is reasonable\n",
        "\n",
        "most_probable_word_ix = theta.argmax(axis=1) # most probable word for each class\n",
        "\n",
        "for j, ix in enumerate(most_probable_word_ix):\n",
        "    print('Most probable word in class {} is \"{}\".'.format(newsgroups_data['target_names'][j],\n",
        "                                                           inv_vocabulary[ix]), end=\"\")\n",
        "    print(f'with freq {theta[j, ix]:.2f}')"
      ],
      "execution_count": null,
      "outputs": [
        {
          "output_type": "stream",
          "name": "stdout",
          "text": [
            "Most probable word in class alt.atheism is \"people\".with freq 0.41\n",
            "Most probable word in class comp.graphics is \"graphics\".with freq 0.35\n",
            "Most probable word in class comp.os.ms-windows.misc is \"windows\".with freq 0.68\n",
            "Most probable word in class comp.sys.ibm.pc.hardware is \"thanks\".with freq 0.35\n",
            "Most probable word in class comp.sys.mac.hardware is \"mac\".with freq 0.37\n",
            "Most probable word in class comp.windows.x is \"window\".with freq 0.32\n",
            "Most probable word in class misc.forsale is \"sale\".with freq 0.61\n",
            "Most probable word in class rec.autos is \"car\".with freq 0.55\n",
            "Most probable word in class rec.motorcycles is \"dod\".with freq 0.53\n",
            "Most probable word in class rec.sport.baseball is \"he\".with freq 0.47\n",
            "Most probable word in class rec.sport.hockey is \"ca\".with freq 0.45\n",
            "Most probable word in class sci.crypt is \"clipper\".with freq 0.53\n",
            "Most probable word in class sci.electronics is \"use\".with freq 0.36\n",
            "Most probable word in class sci.med is \"reply\".with freq 0.32\n",
            "Most probable word in class sci.space is \"space\".with freq 0.53\n",
            "Most probable word in class soc.religion.christian is \"god\".with freq 0.57\n",
            "Most probable word in class talk.politics.guns is \"people\".with freq 0.47\n",
            "Most probable word in class talk.politics.mideast is \"people\".with freq 0.49\n",
            "Most probable word in class talk.politics.misc is \"people\".with freq 0.49\n",
            "Most probable word in class talk.religion.misc is \"he\".with freq 0.42\n"
          ]
        }
      ]
    },
    {
      "cell_type": "code",
      "metadata": {
        "id": "non1pt62sgnw",
        "colab": {
          "base_uri": "https://localhost:8080/"
        },
        "outputId": "42e1fa37-c383-41ff-9976-bbcd9cccc39b"
      },
      "source": [
        "# Define a distribution for each class\n",
        "batch_of_bernoullis = tfd.Bernoulli(probs=theta)\n",
        "batch_of_bernoullis"
      ],
      "execution_count": null,
      "outputs": [
        {
          "output_type": "execute_result",
          "data": {
            "text/plain": [
              "<tfp.distributions.Bernoulli 'Bernoulli' batch_shape=[20, 56365] event_shape=[] dtype=int32>"
            ]
          },
          "metadata": {},
          "execution_count": 78
        }
      ]
    },
    {
      "cell_type": "code",
      "source": [
        "p_x_given_y = tfd.Independent(batch_of_bernoullis, reinterpreted_batch_ndims=1)\n",
        "p_x_given_y"
      ],
      "metadata": {
        "colab": {
          "base_uri": "https://localhost:8080/"
        },
        "id": "G8WeiTwqenIn",
        "outputId": "2cc76faa-6c14-4e00-9e9b-8df4d6404b59"
      },
      "execution_count": null,
      "outputs": [
        {
          "output_type": "execute_result",
          "data": {
            "text/plain": [
              "<tfp.distributions.Independent 'IndependentBernoulli' batch_shape=[20] event_shape=[56365] dtype=int32>"
            ]
          },
          "metadata": {},
          "execution_count": 79
        }
      ]
    },
    {
      "cell_type": "code",
      "metadata": {
        "id": "k7HYAIHPsgnx",
        "colab": {
          "base_uri": "https://localhost:8080/"
        },
        "outputId": "bed121fe-6a41-41f5-ae3d-7818125867ec"
      },
      "source": [
        "# Take a sample of words from each class\n",
        "n_samples = 10\n",
        "sample = p_x_given_y.sample(n_samples)\n",
        "sample.shape"
      ],
      "execution_count": null,
      "outputs": [
        {
          "output_type": "execute_result",
          "data": {
            "text/plain": [
              "TensorShape([10, 20, 56365])"
            ]
          },
          "metadata": {},
          "execution_count": 80
        }
      ]
    },
    {
      "cell_type": "code",
      "metadata": {
        "id": "l3mmyka3sgny",
        "colab": {
          "base_uri": "https://localhost:8080/",
          "height": 35
        },
        "outputId": "a5cf89ad-987d-4ec5-ef5b-06868fd919e9"
      },
      "source": [
        "# Choose a class\n",
        "\n",
        "chosen_class = 15\n",
        "newsgroups_data['target_names'][chosen_class]"
      ],
      "execution_count": null,
      "outputs": [
        {
          "output_type": "execute_result",
          "data": {
            "text/plain": [
              "'soc.religion.christian'"
            ],
            "application/vnd.google.colaboratory.intrinsic+json": {
              "type": "string"
            }
          },
          "metadata": {},
          "execution_count": 81
        }
      ]
    },
    {
      "cell_type": "code",
      "metadata": {
        "id": "-hjf397Psgnz",
        "colab": {
          "base_uri": "https://localhost:8080/"
        },
        "outputId": "5c2613dc-2277-4123-c59c-8006bc33b650"
      },
      "source": [
        "# Indicators for words that appear in the sample\n",
        "\n",
        "class_sample = sample[:, chosen_class, :]\n",
        "class_sample"
      ],
      "execution_count": null,
      "outputs": [
        {
          "output_type": "execute_result",
          "data": {
            "text/plain": [
              "<tf.Tensor: shape=(10, 56365), dtype=int32, numpy=\n",
              "array([[0, 0, 0, ..., 0, 0, 0],\n",
              "       [0, 0, 0, ..., 0, 0, 0],\n",
              "       [0, 0, 0, ..., 0, 0, 0],\n",
              "       ...,\n",
              "       [0, 0, 0, ..., 0, 0, 0],\n",
              "       [0, 0, 0, ..., 0, 0, 0],\n",
              "       [0, 0, 0, ..., 0, 0, 0]], dtype=int32)>"
            ]
          },
          "metadata": {},
          "execution_count": 82
        }
      ]
    },
    {
      "cell_type": "code",
      "metadata": {
        "id": "KdKW2gWnsgnz",
        "colab": {
          "base_uri": "https://localhost:8080/"
        },
        "outputId": "e7fba5af-1140-47b1-ee86-21ff001bb10c"
      },
      "source": [
        "# Perform inverse transform to test quality of fit\n",
        "count_vectorizer.inverse_transform([class_sample[0]])\n"
      ],
      "execution_count": null,
      "outputs": [
        {
          "output_type": "execute_result",
          "data": {
            "text/plain": [
              "[array(['14', '1992', '1993', '51', '542', '98', 'abstinence', 'ai',\n",
              "        'allowed', 'altogether', 'anger', 'another', 'appeal', 'apply',\n",
              "        'astrophysics', 'athena', 'au', 'babylon', 'because', 'been',\n",
              "        'best', 'bowermaster', 'buddhist', 'capital', 'christians',\n",
              "        'circa', 'claiming', 'comes', 'committed', 'conclusion',\n",
              "        'constant', 'contested', 'contra', 'corporation', 'countless',\n",
              "        'course', 'create', 'days', 'debated', 'details', 'did', 'doubt',\n",
              "        'down', 'each', 'end', 'evil', 'expect', 'explain', 'expressed',\n",
              "        'find', 'giaeb', 'god', 'gospel', 'grail', 'great', 'had',\n",
              "        'handle', 'he', 'his', 'however', 'incident', 'interesting',\n",
              "        'investigate', 'its', 'jason', 'jesus', 'justify', 'kulikauskas',\n",
              "        'lay', 'less', 'let', 'lives', 'look', 'maybe', 'mean', 'men',\n",
              "        'message', 'much', 'must', 'need', 'new', 'number', 'off', 'ogden',\n",
              "        'opposed', 'others', 'overwhelming', 'particularly', 'passages',\n",
              "        'playing', 'pleasure', 'points', 'pollsters', 'prayers', 'primacy',\n",
              "        'problem', 'promised', 'proved', 'providing', 'question', 'ran',\n",
              "        'reading', 'reply', 'rex', 'same', 'send', 'sexual', 'side',\n",
              "        'sixteenth', 'slaves', 'slot', 'souls', 'special', 'spoke',\n",
              "        'supportive', 'sweetie', 'taken', 'thee', 'their', 'things',\n",
              "        'thought', 'together', 'tone', 'topical', 'true', 'upon', 'voice',\n",
              "        'want', 'well', 'weren', 'whatever', 'word', 'write', 'writings'],\n",
              "       dtype='<U80')]"
            ]
          },
          "metadata": {},
          "execution_count": 85
        }
      ]
    },
    {
      "cell_type": "markdown",
      "metadata": {
        "id": "D3rFgnVisgn0"
      },
      "source": [
        "***\n",
        "<a id='sampling_and_log_probs'></a>\n",
        "## Sampling and log probs"
      ]
    },
    {
      "cell_type": "code",
      "metadata": {
        "id": "KlOt3_6wsgn0",
        "colab": {
          "base_uri": "https://localhost:8080/"
        },
        "outputId": "a0f422a0-456c-4aff-d98b-54eed004d4bb"
      },
      "source": [
        "# Make Multivariate Distribution\n",
        "\n",
        "normal_distributions = tfd.MultivariateNormalDiag(loc=[[0.5, 1], [0.1, 0], [0, 0.2]],\n",
        "                                 scale_diag=[[2, 3], [1, 3], [4, 4]])\n",
        "normal_distributions"
      ],
      "execution_count": 3,
      "outputs": [
        {
          "output_type": "execute_result",
          "data": {
            "text/plain": [
              "<tfp.distributions.MultivariateNormalDiag 'MultivariateNormalDiag' batch_shape=[3] event_shape=[2] dtype=float32>"
            ]
          },
          "metadata": {},
          "execution_count": 3
        }
      ]
    },
    {
      "cell_type": "code",
      "metadata": {
        "id": "ehfUugwBsgn2",
        "colab": {
          "base_uri": "https://localhost:8080/"
        },
        "outputId": "d1c6a0c8-bbdb-4543-a9d5-a9555d41f661"
      },
      "source": [
        "# Sample\n",
        "normal_distributions.sample()\n"
      ],
      "execution_count": 4,
      "outputs": [
        {
          "output_type": "execute_result",
          "data": {
            "text/plain": [
              "<tf.Tensor: shape=(3, 2), dtype=float32, numpy=\n",
              "array([[-1.2961674, -3.4648843],\n",
              "       [-1.7259144, -2.356639 ],\n",
              "       [-1.7776723,  0.9847862]], dtype=float32)>"
            ]
          },
          "metadata": {},
          "execution_count": 4
        }
      ]
    },
    {
      "cell_type": "code",
      "metadata": {
        "id": "w80M9ksdsgn3",
        "colab": {
          "base_uri": "https://localhost:8080/"
        },
        "outputId": "59eb31a0-a3b7-4ab2-f353-ed601461db77"
      },
      "source": [
        "# Multivariate Normal batched Distribution\n",
        "# We are broadcasting batch shapes of `loc` and `scal_diag` \n",
        "# against each other\n",
        "\n",
        "loc = [[[0.3, 1.5, 1.], [0.2, 0.4, 2.8]],\n",
        "        [[2., 2.3, 8], [1.4, 1, 1.3]]]\n",
        "# loc = [[0,0,0,]]\n",
        "scale_diag = [0.4, 1., 0.7]\n",
        "normal_distributions = tfd.MultivariateNormalDiag(loc=loc, scale_diag=scale_diag)\n",
        "normal_distributions"
      ],
      "execution_count": 5,
      "outputs": [
        {
          "output_type": "execute_result",
          "data": {
            "text/plain": [
              "<tfp.distributions.MultivariateNormalDiag 'MultivariateNormalDiag' batch_shape=[2, 2] event_shape=[3] dtype=float32>"
            ]
          },
          "metadata": {},
          "execution_count": 5
        }
      ]
    },
    {
      "cell_type": "code",
      "source": [
        "np.array(loc).shape"
      ],
      "metadata": {
        "colab": {
          "base_uri": "https://localhost:8080/"
        },
        "id": "-NNa-mI1ABx1",
        "outputId": "dde431e0-1362-4c00-f310-2d28a4a4f533"
      },
      "execution_count": 6,
      "outputs": [
        {
          "output_type": "execute_result",
          "data": {
            "text/plain": [
              "(2, 2, 3)"
            ]
          },
          "metadata": {},
          "execution_count": 6
        }
      ]
    },
    {
      "cell_type": "code",
      "metadata": {
        "id": "Y9uZwTbjsgn4",
        "colab": {
          "base_uri": "https://localhost:8080/"
        },
        "outputId": "bc4618e1-77e0-4630-ce2d-4e102ae0cee7"
      },
      "source": [
        "# Use independent to move part of the batch shape\n",
        "ind_normal_distributions= tfd.Independent(normal_distributions, reinterpreted_batch_ndims=1)\n",
        "ind_normal_distributions"
      ],
      "execution_count": 7,
      "outputs": [
        {
          "output_type": "execute_result",
          "data": {
            "text/plain": [
              "<tfp.distributions.Independent 'IndependentMultivariateNormalDiag' batch_shape=[2] event_shape=[2, 3] dtype=float32>"
            ]
          },
          "metadata": {},
          "execution_count": 7
        }
      ]
    },
    {
      "cell_type": "code",
      "metadata": {
        "id": "HVM4lq7Tsgn4",
        "colab": {
          "base_uri": "https://localhost:8080/"
        },
        "outputId": "5b214a30-0bc4-4245-ef2b-371a37db086c"
      },
      "source": [
        "# Draw some samples\n",
        "samples = ind_normal_distributions.sample(5)\n",
        "samples.shape\n"
      ],
      "execution_count": 8,
      "outputs": [
        {
          "output_type": "execute_result",
          "data": {
            "text/plain": [
              "TensorShape([5, 2, 2, 3])"
            ]
          },
          "metadata": {},
          "execution_count": 8
        }
      ]
    },
    {
      "cell_type": "code",
      "metadata": {
        "id": "XMv3kGNksgn5",
        "colab": {
          "base_uri": "https://localhost:8080/"
        },
        "outputId": "25e81365-0694-42b4-f555-0e871d888020"
      },
      "source": [
        "# `[B, E]` shaped input\n",
        "\n",
        "inp = tf.random.uniform([2,2,3])\n",
        "ind_normal_distributions.log_prob(inp)"
      ],
      "execution_count": 9,
      "outputs": [
        {
          "output_type": "execute_result",
          "data": {
            "text/plain": [
              "<tf.Tensor: shape=(2,), dtype=float32, numpy=array([-10.683702, -70.85609 ], dtype=float32)>"
            ]
          },
          "metadata": {},
          "execution_count": 9
        }
      ]
    },
    {
      "cell_type": "code",
      "metadata": {
        "id": "2t0x9cLSsgn6",
        "colab": {
          "base_uri": "https://localhost:8080/"
        },
        "outputId": "56ea56dd-c610-4cfb-ee02-d80957eb652e"
      },
      "source": [
        "# `[E]` shaped input (broadcasting over batch size)\n",
        "inp = tf.random.uniform((2,3))\n",
        "ind_normal_distributions.log_prob(inp)\n"
      ],
      "execution_count": 10,
      "outputs": [
        {
          "output_type": "execute_result",
          "data": {
            "text/plain": [
              "<tf.Tensor: shape=(2,), dtype=float32, numpy=array([ -9.249443, -75.61279 ], dtype=float32)>"
            ]
          },
          "metadata": {},
          "execution_count": 10
        }
      ]
    },
    {
      "cell_type": "code",
      "source": [
        "test = np.array([inp,inp])\n",
        "test.shape"
      ],
      "metadata": {
        "colab": {
          "base_uri": "https://localhost:8080/"
        },
        "id": "w4gJhknczc0D",
        "outputId": "b66cb9d9-c336-4768-885b-d4c20317d4c9"
      },
      "execution_count": 14,
      "outputs": [
        {
          "output_type": "execute_result",
          "data": {
            "text/plain": [
              "(2, 2, 3)"
            ]
          },
          "metadata": {},
          "execution_count": 14
        }
      ]
    },
    {
      "cell_type": "code",
      "source": [
        "ind_normal_distributions.log_prob(test)"
      ],
      "metadata": {
        "colab": {
          "base_uri": "https://localhost:8080/"
        },
        "id": "gbaZr8l7zrFT",
        "outputId": "d17cab26-86b6-406e-8c7f-50aa09b04446"
      },
      "execution_count": 15,
      "outputs": [
        {
          "output_type": "execute_result",
          "data": {
            "text/plain": [
              "<tf.Tensor: shape=(2,), dtype=float32, numpy=array([ -9.249443, -75.61279 ], dtype=float32)>"
            ]
          },
          "metadata": {},
          "execution_count": 15
        }
      ]
    },
    {
      "cell_type": "code",
      "source": [
        ""
      ],
      "metadata": {
        "id": "bUU913BRzr8q"
      },
      "execution_count": null,
      "outputs": []
    },
    {
      "cell_type": "code",
      "metadata": {
        "id": "-cxhum6xsgn7",
        "colab": {
          "base_uri": "https://localhost:8080/"
        },
        "outputId": "23db963f-8d58-4481-c6a0-ef9e107f4c67"
      },
      "source": [
        "#`[S, B, E]` shaped input (broadcasting over samples)\n",
        "\n",
        "inp = tf.random.uniform((9, 2, 2,3))\n",
        "ind_normal_distributions.log_prob(inp)"
      ],
      "execution_count": null,
      "outputs": [
        {
          "output_type": "execute_result",
          "data": {
            "text/plain": [
              "<tf.Tensor: shape=(9, 2), dtype=float32, numpy=\n",
              "array([[-11.1896305, -74.15888  ],\n",
              "       [ -8.662303 , -76.68224  ],\n",
              "       [ -8.310175 , -71.92856  ],\n",
              "       [ -9.872419 , -77.74613  ],\n",
              "       [ -9.839038 , -70.848335 ],\n",
              "       [ -8.425177 , -64.63274  ],\n",
              "       [-12.257543 , -78.14155  ],\n",
              "       [ -9.952727 , -61.090668 ],\n",
              "       [ -9.862118 , -69.29745  ]], dtype=float32)>"
            ]
          },
          "metadata": {},
          "execution_count": 107
        }
      ]
    },
    {
      "cell_type": "code",
      "metadata": {
        "id": "6uIkjUpMsgn8",
        "colab": {
          "base_uri": "https://localhost:8080/"
        },
        "outputId": "da720805-52a6-40be-fa79-e0123a4a5946"
      },
      "source": [
        "# `[S, b, e]` shaped input, where [b, e] is broadcastable over [B, E]\n",
        "\n",
        "inp = tf.random.uniform((9, 1, 2,1))\n",
        "ind_normal_distributions.log_prob(inp)"
      ],
      "execution_count": null,
      "outputs": [
        {
          "output_type": "execute_result",
          "data": {
            "text/plain": [
              "<tf.Tensor: shape=(9, 2), dtype=float32, numpy=\n",
              "array([[ -9.183877, -71.40644 ],\n",
              "       [-10.467295, -82.413666],\n",
              "       [-10.970928, -64.05264 ],\n",
              "       [ -9.806834, -59.14113 ],\n",
              "       [-11.69374 , -87.48183 ],\n",
              "       [-11.948297, -72.115746],\n",
              "       [-11.82281 , -66.42183 ],\n",
              "       [-11.161443, -70.49489 ],\n",
              "       [ -9.692514, -61.308758]], dtype=float32)>"
            ]
          },
          "metadata": {},
          "execution_count": 109
        }
      ]
    },
    {
      "cell_type": "markdown",
      "metadata": {
        "id": "WN0c2mTosgn-"
      },
      "source": [
        "#### Naive Bayes example\n",
        "\n",
        "Lets now use what we have learned and continue the Naive Bayes classifier we were building last tutorial."
      ]
    },
    {
      "cell_type": "markdown",
      "metadata": {
        "id": "agSEQnKW6NSq"
      },
      "source": [
        "#### Import the data\n",
        "\n",
        "The dataset required for this coding tutorial can be downloaded from the following link:\n",
        "\n",
        "https://drive.google.com/file/d/1ZdVZFZv3eEw3Duwjg4fvtYAsgySoCRIm/view?usp=sharing\n",
        "\n",
        "You should store this file in Drive for use in this Colab notebook."
      ]
    },
    {
      "cell_type": "code",
      "metadata": {
        "id": "FfMucVWr6NSr",
        "colab": {
          "base_uri": "https://localhost:8080/"
        },
        "outputId": "8e4fcb38-1dab-493d-e4fe-4b3c694ce4c6"
      },
      "source": [
        "# Run this cell to connect to your Drive folder\n",
        "\n",
        "from google.colab import drive\n",
        "drive.mount('/content/gdrive')"
      ],
      "execution_count": 17,
      "outputs": [
        {
          "output_type": "stream",
          "name": "stdout",
          "text": [
            "Mounted at /content/gdrive\n"
          ]
        }
      ]
    },
    {
      "cell_type": "code",
      "metadata": {
        "id": "mdR-4dPcsgn_"
      },
      "source": [
        "from sklearn.datasets import fetch_20newsgroups\n",
        "from sklearn.feature_extraction.text import CountVectorizer\n",
        "from sklearn.naive_bayes import BernoulliNB\n",
        "from sklearn.metrics import f1_score"
      ],
      "execution_count": 18,
      "outputs": []
    },
    {
      "cell_type": "code",
      "metadata": {
        "id": "6Oqs907ysgoB"
      },
      "source": [
        "# Making a function get_data which:\n",
        "#   1) Fetches the 20 newsgroup dataset\n",
        "#   2) Performs a word count on the articles and binarizes the result\n",
        "#   3) Returns the data as a numpy matrix with the labels\n",
        "\n",
        "def get_data(categories):\n",
        "    \n",
        "    newsgroups_train_data = fetch_20newsgroups(data_home='/path/to/20_Newsgroup_Data/',\n",
        "                                               subset='train', categories=categories)\n",
        "    newsgroups_test_data = fetch_20newsgroups(data_home='/path/to/20_Newsgroup_Data/',\n",
        "                                              subset='test', categories=categories)\n",
        "\n",
        "    n_documents = len(newsgroups_test_data['data'])\n",
        "    count_vectorizer = CountVectorizer(input='content', binary=True,max_df=0.25, min_df=1.01/n_documents)\n",
        "    \n",
        "    train_binary_bag_of_words = count_vectorizer.fit_transform(newsgroups_train_data['data'])\n",
        "    test_binary_bag_of_words = count_vectorizer.transform(newsgroups_test_data['data']) \n",
        "\n",
        "    return (train_binary_bag_of_words.todense(), newsgroups_train_data['target']),  (test_binary_bag_of_words.todense(), newsgroups_test_data['target'])"
      ],
      "execution_count": 19,
      "outputs": []
    },
    {
      "cell_type": "code",
      "source": [
        ""
      ],
      "metadata": {
        "id": "m_eZkHbn001s"
      },
      "execution_count": 19,
      "outputs": []
    },
    {
      "cell_type": "markdown",
      "source": [
        "These probability distributions are assumed to have independent components: we can factorize the joint probability as a product of marginal probabilities\n",
        "\\begin{equation}\n",
        "    p(x|y = j) = \\prod_{i=1}^d p(x_i|y = j)\n",
        "\\end{equation}\n",
        "These marginal probability distributions are Bernoulli distributions, each of which has a single parameter $\\theta_{ji} := p(x_i = 1|y = j)$."
      ],
      "metadata": {
        "id": "QN0eRDCG04mZ"
      }
    },
    {
      "cell_type": "code",
      "source": [
        "\n",
        "def laplace_smoothing0(total_counts, N, alpha):\n",
        "  return (total_counts + alpha) / (N + alpha * 2)"
      ],
      "metadata": {
        "id": "RXTWN7I_3BF5"
      },
      "execution_count": 22,
      "outputs": []
    },
    {
      "cell_type": "code",
      "source": [
        "\n",
        "def get_theta(labels, binary_data, n_classes, alpha=1):\n",
        "  theta = np.zeros((n_classes, binary_data.shape[1]))\n",
        "  for c_k in range(n_classes):\n",
        "    class_masks = (labels == c_k)\n",
        "    class_data = binary_data[class_masks]\n",
        "    N = class_data.sum()\n",
        "    total_counts = class_data.sum(axis=0)\n",
        "    theta[c_k] = laplace_smoothing0(total_counts, N, alpha)\n",
        "\n",
        "  return theta"
      ],
      "metadata": {
        "id": "YA4f_kJt1oAp"
      },
      "execution_count": 92,
      "outputs": []
    },
    {
      "cell_type": "code",
      "source": [
        "# Getting a subset of the 20 newsgroup dataset\n",
        "\n",
        "categories = ['alt.atheism', 'talk.religion.misc', 'comp.graphics', 'sci.space']\n",
        "\n",
        "(train_data, train_labels), (test_data, test_labels) = get_data(categories=categories)\n",
        "smoothed_counts = get_theta(labels=train_labels, binary_data=train_data, n_classes=len(categories))"
      ],
      "metadata": {
        "id": "GApSBjSU3Aix"
      },
      "execution_count": 93,
      "outputs": []
    },
    {
      "cell_type": "code",
      "metadata": {
        "id": "oasCKIY4sgoC"
      },
      "source": [
        "# Defining a function to conduct Laplace smoothing. This adds a base level of probability for a given feature\n",
        "# to occur in every class.\n",
        "\n",
        "def laplace_smoothing(labels, binary_data, n_classes):\n",
        "    # Compute the parameter estimates (adjusted fraction of documents in class that contain word)\n",
        "    n_words = binary_data.shape[1]\n",
        "    alpha = 1 # parameters for Laplace smoothing\n",
        "    theta = np.zeros([n_classes, n_words]) # stores parameter values - prob. word given class\n",
        "    for c_k in range(n_classes): # 0, 1, ..., 19\n",
        "        class_mask = (labels == c_k)\n",
        "        N = class_mask.sum() # number of articles in class\n",
        "        theta[c_k, :] = (binary_data[class_mask, :].sum(axis=0) + alpha)/(N + alpha*2)\n",
        "\n",
        "    return theta"
      ],
      "execution_count": 105,
      "outputs": []
    },
    {
      "cell_type": "code",
      "metadata": {
        "id": "-_9fxEIdsgoD"
      },
      "source": [
        "# Getting a subset of the 20 newsgroup dataset\n",
        "\n",
        "categories = ['alt.atheism', 'talk.religion.misc', 'comp.graphics', 'sci.space']\n",
        "\n",
        "(train_data, train_labels), (test_data, test_labels) = get_data(categories=categories)\n",
        "smoothed_counts = laplace_smoothing(labels=train_labels, binary_data=train_data, n_classes=len(categories))"
      ],
      "execution_count": 106,
      "outputs": []
    },
    {
      "cell_type": "code",
      "source": [
        "\n",
        "smoothed_counts.shape"
      ],
      "metadata": {
        "colab": {
          "base_uri": "https://localhost:8080/"
        },
        "id": "69SkpgSTcnyf",
        "outputId": "57bdd4a6-d79e-490c-f14a-a9b91b55c71e"
      },
      "execution_count": 107,
      "outputs": [
        {
          "output_type": "execute_result",
          "data": {
            "text/plain": [
              "(4, 17495)"
            ]
          },
          "metadata": {},
          "execution_count": 107
        }
      ]
    },
    {
      "cell_type": "code",
      "source": [
        "\n",
        "smoothed_counts00= np.copy(smoothed_counts)"
      ],
      "metadata": {
        "id": "m9OWl4DQ4Nmg"
      },
      "execution_count": 121,
      "outputs": []
    },
    {
      "cell_type": "code",
      "source": [
        "tt = get_theta(labels=train_labels, binary_data=train_data, n_classes=len(categories))\n"
      ],
      "metadata": {
        "id": "KMOdK3VPkfRd"
      },
      "execution_count": 124,
      "outputs": []
    },
    {
      "cell_type": "code",
      "source": [
        "tt"
      ],
      "metadata": {
        "colab": {
          "base_uri": "https://localhost:8080/"
        },
        "id": "R6JNd_NMkgk-",
        "outputId": "ac9d5097-8673-4722-ee8e-ce569e48fd63"
      },
      "execution_count": 126,
      "outputs": [
        {
          "output_type": "execute_result",
          "data": {
            "text/plain": [
              "array([[6.62767385e-05, 1.98830216e-04, 1.65691846e-05, ...,\n",
              "        1.65691846e-05, 1.65691846e-05, 1.65691846e-05],\n",
              "       [4.22433215e-04, 2.41390409e-04, 2.01158674e-05, ...,\n",
              "        2.01158674e-05, 2.21274541e-04, 6.03476022e-05],\n",
              "       [2.95726748e-04, 5.64569247e-04, 4.03263748e-05, ...,\n",
              "        1.34421249e-05, 1.34421249e-05, 1.34421249e-05],\n",
              "       [9.97227707e-05, 1.59556433e-04, 1.99445541e-05, ...,\n",
              "        5.98336624e-05, 1.99445541e-05, 1.99445541e-05]])"
            ]
          },
          "metadata": {},
          "execution_count": 126
        }
      ]
    },
    {
      "cell_type": "code",
      "source": [
        "\n",
        "smoothed_counts00"
      ],
      "metadata": {
        "colab": {
          "base_uri": "https://localhost:8080/"
        },
        "id": "E-cmGH6Uka9-",
        "outputId": "0679d0a8-1a24-432a-e850-063fe8d36d81"
      },
      "execution_count": 123,
      "outputs": [
        {
          "output_type": "execute_result",
          "data": {
            "text/plain": [
              "array([[0.00829876, 0.02489627, 0.00207469, ..., 0.00207469, 0.00207469,\n",
              "        0.00207469],\n",
              "       [0.03583618, 0.02047782, 0.00170648, ..., 0.00170648, 0.01877133,\n",
              "        0.00511945],\n",
              "       [0.03697479, 0.07058824, 0.00504202, ..., 0.00168067, 0.00168067,\n",
              "        0.00168067],\n",
              "       [0.01319261, 0.02110818, 0.00263852, ..., 0.00791557, 0.00263852,\n",
              "        0.00263852]])"
            ]
          },
          "metadata": {},
          "execution_count": 123
        }
      ]
    },
    {
      "cell_type": "code",
      "source": [
        "\n",
        "\n",
        "test_data.shape"
      ],
      "metadata": {
        "colab": {
          "base_uri": "https://localhost:8080/"
        },
        "id": "mryefIg2abaT",
        "outputId": "8a344719-3c2f-48d6-e73c-35841246e3b3"
      },
      "execution_count": null,
      "outputs": [
        {
          "output_type": "execute_result",
          "data": {
            "text/plain": [
              "(1353, 17495)"
            ]
          },
          "metadata": {},
          "execution_count": 100
        }
      ]
    },
    {
      "cell_type": "markdown",
      "metadata": {
        "id": "00DbbifVsgoD"
      },
      "source": [
        "To now make our NB classifier we need to build three functions:\n",
        "* Compute the class priors\n",
        "* Build our class conditional distributions\n",
        "* Put it all together and classify our data"
      ]
    },
    {
      "cell_type": "markdown",
      "source": [
        "class_priors:  \n",
        "$$p(y=j)$$\n",
        "\n",
        "calculating: \n",
        "\\begin{equation}\n",
        "    p(y = j|x) = \\frac{p(x|y = j)p(y = j)}{p(x)}\n",
        "\\end{equation}"
      ],
      "metadata": {
        "id": "ga1AJYyCd5eN"
      }
    },
    {
      "cell_type": "code",
      "metadata": {
        "id": "jiU1sFnHsgoE"
      },
      "source": [
        "# Function which computes the prior probability of every class based on frequency of occurence in \n",
        "# the dataset\n",
        "\n",
        "def class_priors(n_classes, labels):\n",
        "    counts = np.zeros(n_classes)\n",
        "    for c_k in range(n_classes):\n",
        "        counts[c_k] = np.sum(np.where(labels==c_k, 1, 0))\n",
        "    priors = counts / np.sum(counts)\n",
        "    print('The class priors are {}'.format(priors))\n",
        "    return priors"
      ],
      "execution_count": 108,
      "outputs": []
    },
    {
      "cell_type": "code",
      "source": [
        "np.where(train_labels==1, 1, 0)\n"
      ],
      "metadata": {
        "colab": {
          "base_uri": "https://localhost:8080/"
        },
        "id": "j37BXP2NdIam",
        "outputId": "63654c9c-f2e4-40fa-b5d2-b2e0d1ebab09"
      },
      "execution_count": 109,
      "outputs": [
        {
          "output_type": "execute_result",
          "data": {
            "text/plain": [
              "array([1, 0, 0, ..., 1, 0, 1])"
            ]
          },
          "metadata": {},
          "execution_count": 109
        }
      ]
    },
    {
      "cell_type": "code",
      "source": [
        "\n",
        "train_labels"
      ],
      "metadata": {
        "colab": {
          "base_uri": "https://localhost:8080/"
        },
        "id": "drh7azy7gGsO",
        "outputId": "85dbadec-0ef9-4bd9-c0f7-0314f69f1783"
      },
      "execution_count": 110,
      "outputs": [
        {
          "output_type": "execute_result",
          "data": {
            "text/plain": [
              "array([1, 3, 2, ..., 1, 0, 1])"
            ]
          },
          "metadata": {},
          "execution_count": 110
        }
      ]
    },
    {
      "cell_type": "code",
      "metadata": {
        "id": "0SHV-BzgsgoF",
        "colab": {
          "base_uri": "https://localhost:8080/"
        },
        "outputId": "80ad106a-a0c6-4c48-fcf3-2bf92bce8d6a"
      },
      "source": [
        "# Run the function \n",
        "priors = class_priors(len(categories), labels=train_labels)"
      ],
      "execution_count": 111,
      "outputs": [
        {
          "output_type": "stream",
          "name": "stdout",
          "text": [
            "The class priors are [0.2359882  0.28711898 0.29154376 0.18534907]\n"
          ]
        }
      ]
    },
    {
      "cell_type": "markdown",
      "source": [
        "make distribution P(x):\n",
        "$$ P(x) ∼ Bernoulli $$"
      ],
      "metadata": {
        "id": "B4D-c1GGl8Ea"
      }
    },
    {
      "cell_type": "code",
      "source": [
        "x = np.linspace(0,1, 100)\n",
        "plt.plot(x, np.log(x/(1-x)))"
      ],
      "metadata": {
        "colab": {
          "base_uri": "https://localhost:8080/",
          "height": 352
        },
        "id": "lUscdC8CuCFc",
        "outputId": "ed1c6b8c-d451-49d1-ec26-06484d0a36e5"
      },
      "execution_count": 112,
      "outputs": [
        {
          "output_type": "stream",
          "name": "stderr",
          "text": [
            "/usr/local/lib/python3.7/dist-packages/ipykernel_launcher.py:2: RuntimeWarning: divide by zero encountered in true_divide\n",
            "  \n",
            "/usr/local/lib/python3.7/dist-packages/ipykernel_launcher.py:2: RuntimeWarning: divide by zero encountered in log\n",
            "  \n"
          ]
        },
        {
          "output_type": "execute_result",
          "data": {
            "text/plain": [
              "[<matplotlib.lines.Line2D at 0x7fce47467a10>]"
            ]
          },
          "metadata": {},
          "execution_count": 112
        },
        {
          "output_type": "display_data",
          "data": {
            "text/plain": [
              "<Figure size 432x288 with 1 Axes>"
            ],
            "image/png": "[encoded data removed]"
          },
          "metadata": {
            "needs_background": "light"
          }
        }
      ]
    },
    {
      "cell_type": "code",
      "metadata": {
        "id": "yWZaIj2YsgoF"
      },
      "source": [
        "# Now we will do a function that given the feature occurence counts returns a Bernoulli distribution of \n",
        "# batch_shape=number of classes and event_shape=number of features.\n",
        "def make_distribution(probs):\n",
        "  batch_of_bernoullis = tfd.Bernoulli(probs=probs)\n",
        "  dist = tfd.Independent(batch_of_bernoullis, reinterpreted_batch_ndims=1)\n",
        "  return dist"
      ],
      "execution_count": 113,
      "outputs": []
    },
    {
      "cell_type": "code",
      "source": [
        "batch_of_bernoullis = tfd.Bernoulli(probs=smoothed_counts)\n",
        "\n"
      ],
      "metadata": {
        "id": "bVi2P_BUtZQU"
      },
      "execution_count": 114,
      "outputs": []
    },
    {
      "cell_type": "code",
      "source": [
        "batch_of_bernoullis"
      ],
      "metadata": {
        "colab": {
          "base_uri": "https://localhost:8080/"
        },
        "id": "OF1Q4KOz61Av",
        "outputId": "0bf412d0-4fd8-4f70-ced4-b89b32869774"
      },
      "execution_count": 115,
      "outputs": [
        {
          "output_type": "execute_result",
          "data": {
            "text/plain": [
              "<tfp.distributions.Bernoulli 'Bernoulli' batch_shape=[4, 17495] event_shape=[] dtype=int32>"
            ]
          },
          "metadata": {},
          "execution_count": 115
        }
      ]
    },
    {
      "cell_type": "code",
      "source": [
        "tf_dist = make_distribution(smoothed_counts)\n",
        "tf_dist"
      ],
      "metadata": {
        "colab": {
          "base_uri": "https://localhost:8080/"
        },
        "id": "kdH1yGfCgnw3",
        "outputId": "a9911599-b830-48b6-d549-61cca4a5dd3a"
      },
      "execution_count": 116,
      "outputs": [
        {
          "output_type": "execute_result",
          "data": {
            "text/plain": [
              "<tfp.distributions.Independent 'IndependentBernoulli' batch_shape=[4] event_shape=[17495] dtype=int32>"
            ]
          },
          "metadata": {},
          "execution_count": 116
        }
      ]
    },
    {
      "cell_type": "markdown",
      "source": [
        "cond_probs $P(x|y=j)$:\n",
        "$$P(x|y=j) = \\prod_i^d P(x_i|y=j) $$\n",
        "$$\\theta_{ji} : = P(x_i=1|y=j)$$\n",
        "priors $P(y)$:\n",
        "$$P(y=j) = \\frac{N_j}{N}, N = \\sum_j N_j$$\n",
        "joint_llh $P(x,y)$:\n",
        "$$P(x,y) = P(x|y)p(y)$$\n",
        "posterior $P(y=j|x)$:\n",
        "$$\\log P(y=j|x) = \\log P(x|y=j) + \\log P(y=j) - \\log P(x)$$"
      ],
      "metadata": {
        "id": "cLhjKQWtc3oy"
      }
    },
    {
      "cell_type": "code",
      "metadata": {
        "id": "KzqiG4LYsgoI"
      },
      "source": [
        "# The final function predict_sample which given the distribution, a test sample, and the class priors:\n",
        "#   1) Computes the class conditional probabilities given the sample\n",
        "#   2) Forms the joint likelihood\n",
        "#   3) Normalises the joint likelihood and returns the log prob\n",
        "def predict_sample(dist, sample, priors):\n",
        "  cond_probs = dist.log_prob(sample)\n",
        "  log_priors = tf.cast(tf.math.log(priors), \"float32\")\n",
        "  joint_likelihood = log_priors +  cond_probs\n",
        "  # norm_factor = tf.math.reduce_logsumexp(joint_likelihood, axis=1, keepdims=True)\n",
        "  norm_factor = tf.math.reduce_logsumexp(joint_likelihood)\n",
        "  log_prob = joint_likelihood - norm_factor\n",
        "  return log_prob\n"
      ],
      "execution_count": 117,
      "outputs": []
    },
    {
      "cell_type": "markdown",
      "metadata": {
        "id": "8kTjEmFysgoJ"
      },
      "source": [
        "#### Computing log_probs"
      ]
    },
    {
      "cell_type": "code",
      "metadata": {
        "id": "rXimNT4csgoJ",
        "colab": {
          "base_uri": "https://localhost:8080/"
        },
        "outputId": "2da6d99f-6360-4c05-fcef-4104fc88e7c1"
      },
      "source": [
        "# Predicting one example from our test data\n",
        "log_probs = predict_sample(tf_dist, test_data[0], priors)\n",
        "log_probs"
      ],
      "execution_count": 118,
      "outputs": [
        {
          "output_type": "execute_result",
          "data": {
            "text/plain": [
              "<tf.Tensor: shape=(4,), dtype=float32, numpy=\n",
              "array([-6.1736267e+01, -1.5258789e-05, -1.1619888e+01, -6.3327835e+01],\n",
              "      dtype=float32)>"
            ]
          },
          "metadata": {},
          "execution_count": 118
        }
      ]
    },
    {
      "cell_type": "code",
      "metadata": {
        "id": "kU5TbCt4sgoK",
        "colab": {
          "base_uri": "https://localhost:8080/"
        },
        "outputId": "0923fe50-af65-4f1b-f201-be080cd2071d"
      },
      "source": [
        "# Loop over our test data and classify.\n",
        "\n",
        "probabilities = []\n",
        "for sample, label in zip(test_data, test_labels):\n",
        "    probabilities.append(tf.exp(predict_sample(tf_dist, sample, priors)))\n",
        "\n",
        "probabilities = np.asarray(probabilities)\n",
        "predicted_classes = np.argmax(probabilities, axis =-1)\n",
        "print('f1 ', f1_score(test_labels, predicted_classes, average='macro'))"
      ],
      "execution_count": 119,
      "outputs": [
        {
          "output_type": "stream",
          "name": "stdout",
          "text": [
            "f1  0.7848499112849504\n"
          ]
        }
      ]
    },
    {
      "cell_type": "code",
      "metadata": {
        "id": "mivNa-lwsgoK",
        "colab": {
          "base_uri": "https://localhost:8080/"
        },
        "outputId": "cfcf13d1-ba1e-46e7-d4c3-c18c10ba3930"
      },
      "source": [
        "# Make a Bernoulli Naive Bayes classifier using sklearn with the same level of alpha smoothing. \n",
        "\n",
        "clf = BernoulliNB(alpha=1)\n",
        "clf.fit(train_data, train_labels)\n",
        "pred = clf.predict(test_data)\n",
        "print('f1 from sklean ', f1_score(test_labels, pred, average='macro'))"
      ],
      "execution_count": 104,
      "outputs": [
        {
          "output_type": "stream",
          "name": "stderr",
          "text": [
            "/usr/local/lib/python3.7/dist-packages/sklearn/utils/validation.py:598: FutureWarning: np.matrix usage is deprecated in 1.0 and will raise a TypeError in 1.2. Please convert to a numpy array with np.asarray. For more information see: https://numpy.org/doc/stable/reference/generated/numpy.matrix.html\n",
            "  FutureWarning,\n",
            "/usr/local/lib/python3.7/dist-packages/sklearn/utils/validation.py:598: FutureWarning: np.matrix usage is deprecated in 1.0 and will raise a TypeError in 1.2. Please convert to a numpy array with np.asarray. For more information see: https://numpy.org/doc/stable/reference/generated/numpy.matrix.html\n",
            "  FutureWarning,\n"
          ]
        },
        {
          "output_type": "stream",
          "name": "stdout",
          "text": [
            "f1 from sklean  0.7848499112849504\n"
          ]
        }
      ]
    },
    {
      "cell_type": "code",
      "source": [
        "clf = BernoulliNB(alpha=0.1)\n",
        "clf.fit(train_data, train_labels)\n",
        "pred = clf.predict(test_data)\n",
        "print('f1 from sklean ', f1_score(test_labels, pred, average='macro'))"
      ],
      "metadata": {
        "colab": {
          "base_uri": "https://localhost:8080/"
        },
        "id": "sRwXn5_EuoxB",
        "outputId": "ab06923f-d4aa-4d0b-c770-f77106b13465"
      },
      "execution_count": null,
      "outputs": [
        {
          "output_type": "stream",
          "name": "stderr",
          "text": [
            "/usr/local/lib/python3.7/dist-packages/sklearn/utils/validation.py:598: FutureWarning: np.matrix usage is deprecated in 1.0 and will raise a TypeError in 1.2. Please convert to a numpy array with np.asarray. For more information see: https://numpy.org/doc/stable/reference/generated/numpy.matrix.html\n",
            "  FutureWarning,\n",
            "/usr/local/lib/python3.7/dist-packages/sklearn/utils/validation.py:598: FutureWarning: np.matrix usage is deprecated in 1.0 and will raise a TypeError in 1.2. Please convert to a numpy array with np.asarray. For more information see: https://numpy.org/doc/stable/reference/generated/numpy.matrix.html\n",
            "  FutureWarning,\n"
          ]
        },
        {
          "output_type": "stream",
          "name": "stdout",
          "text": [
            "f1 from sklean  0.8496961488207146\n"
          ]
        }
      ]
    },
    {
      "cell_type": "code",
      "source": [
        "clf = BernoulliNB(alpha=0.01)\n",
        "clf.fit(train_data, train_labels)\n",
        "pred = clf.predict(test_data)\n",
        "print('f1 from sklean ', f1_score(test_labels, pred, average='macro'))\n"
      ],
      "metadata": {
        "colab": {
          "base_uri": "https://localhost:8080/"
        },
        "id": "jXxJnA5-uvaU",
        "outputId": "4779fe54-4d6a-468d-dee4-745ca4845d2c"
      },
      "execution_count": null,
      "outputs": [
        {
          "output_type": "stream",
          "name": "stderr",
          "text": [
            "/usr/local/lib/python3.7/dist-packages/sklearn/utils/validation.py:598: FutureWarning: np.matrix usage is deprecated in 1.0 and will raise a TypeError in 1.2. Please convert to a numpy array with np.asarray. For more information see: https://numpy.org/doc/stable/reference/generated/numpy.matrix.html\n",
            "  FutureWarning,\n",
            "/usr/local/lib/python3.7/dist-packages/sklearn/utils/validation.py:598: FutureWarning: np.matrix usage is deprecated in 1.0 and will raise a TypeError in 1.2. Please convert to a numpy array with np.asarray. For more information see: https://numpy.org/doc/stable/reference/generated/numpy.matrix.html\n",
            "  FutureWarning,\n"
          ]
        },
        {
          "output_type": "stream",
          "name": "stdout",
          "text": [
            "f1 from sklean  0.8623389692276502\n"
          ]
        }
      ]
    },
    {
      "cell_type": "markdown",
      "metadata": {
        "id": "ycDlIEiGsgoM"
      },
      "source": [
        "***\n",
        "<a id='trainable_distributions'></a>\n",
        "## Trainable Distributions"
      ]
    },
    {
      "cell_type": "markdown",
      "metadata": {
        "id": "3mg2sCfP6baJ"
      },
      "source": [
        "#### Import the data\n",
        "\n",
        "The dataset required for this coding tutorial can be downloaded from the following link:\n",
        "\n",
        "https://drive.google.com/file/d/1ZdVZFZv3eEw3Duwjg4fvtYAsgySoCRIm/view?usp=sharing\n",
        "\n",
        "You should store this file in Drive for use in this Colab notebook."
      ]
    },
    {
      "cell_type": "code",
      "metadata": {
        "id": "P7mRZlWE6baL",
        "colab": {
          "base_uri": "https://localhost:8080/"
        },
        "outputId": "db77309d-ea0c-4fc6-fcd7-ef504bec486e"
      },
      "source": [
        "# Run this cell to connect to your Drive folder\n",
        "\n",
        "from google.colab import drive\n",
        "drive.mount('/content/gdrive')"
      ],
      "execution_count": null,
      "outputs": [
        {
          "output_type": "stream",
          "name": "stdout",
          "text": [
            "Drive already mounted at /content/gdrive; to attempt to forcibly remount, call drive.mount(\"/content/gdrive\", force_remount=True).\n"
          ]
        }
      ]
    },
    {
      "cell_type": "code",
      "metadata": {
        "id": "LD0A3yan6e3L"
      },
      "source": [
        "from sklearn.datasets import fetch_20newsgroups\n",
        "from sklearn.feature_extraction.text import CountVectorizer\n",
        "from sklearn.naive_bayes import BernoulliNB\n",
        "from sklearn.metrics import f1_score"
      ],
      "execution_count": null,
      "outputs": []
    },
    {
      "cell_type": "code",
      "metadata": {
        "id": "Vqb5nOE8sgoN",
        "colab": {
          "base_uri": "https://localhost:8080/"
        },
        "outputId": "f6659e8d-c32a-43e7-979a-d3d1d555389b"
      },
      "source": [
        "# Define an exponential distribution\n",
        "exponential = tfd.Exponential(rate=0.3, name='exp')\n",
        "exponential"
      ],
      "execution_count": null,
      "outputs": [
        {
          "output_type": "execute_result",
          "data": {
            "text/plain": [
              "<tfp.distributions.Exponential 'exp' batch_shape=[] event_shape=[] dtype=float32>"
            ]
          },
          "metadata": {},
          "execution_count": 21
        }
      ]
    },
    {
      "cell_type": "code",
      "metadata": {
        "id": "J117CKjnsgoO",
        "colab": {
          "base_uri": "https://localhost:8080/",
          "height": 265
        },
        "outputId": "16ae3a35-0006-4623-c0e7-01aefd62b68d"
      },
      "source": [
        "# Plot\n",
        "plt.hist(exponential.sample(5000), bins=100, density=True)\n",
        "plt.show()"
      ],
      "execution_count": null,
      "outputs": [
        {
          "output_type": "display_data",
          "data": {
            "text/plain": [
              "<Figure size 432x288 with 1 Axes>"
            ],
            "image/png": "[encoded data removed]"
          },
          "metadata": {
            "needs_background": "light"
          }
        }
      ]
    },
    {
      "cell_type": "code",
      "metadata": {
        "id": "v0OfEcDisgoP",
        "colab": {
          "base_uri": "https://localhost:8080/"
        },
        "outputId": "a4953369-2af0-49d6-8602-027cec0f89d9"
      },
      "source": [
        "# Define an exponential distribution with a trainable rate parameter\n",
        "exp_train = tfd.Exponential(rate=tf.Variable(1., name=\"rate\"), name='exp_train')\n",
        "exp_train.trainable_variables"
      ],
      "execution_count": null,
      "outputs": [
        {
          "output_type": "execute_result",
          "data": {
            "text/plain": [
              "(<tf.Variable 'rate:0' shape=() dtype=float32, numpy=1.0>,)"
            ]
          },
          "metadata": {},
          "execution_count": 23
        }
      ]
    },
    {
      "cell_type": "code",
      "metadata": {
        "id": "uKCuuoT8sgoQ"
      },
      "source": [
        "# Define the negative log likelihood\n",
        "def nll(x_train, dist):\n",
        "  return -tf.reduce_mean(dist.log_prob(x_train))"
      ],
      "execution_count": null,
      "outputs": []
    },
    {
      "cell_type": "code",
      "metadata": {
        "id": "_IVhv4HjsgoR"
      },
      "source": [
        "# Define a function to compute the loss and gradients\n",
        "@tf.function\n",
        "def get_loss_and_grads(x_train, dist):\n",
        "  with tf.GradientTape() as tape:\n",
        "      tape.watch(dist.trainable_variables)\n",
        "      loss = nll(x_train, dist)\n",
        "      grads = tape.gradient(loss, dist.trainable_variables)\n",
        "  return loss, grads"
      ],
      "execution_count": null,
      "outputs": []
    },
    {
      "cell_type": "code",
      "metadata": {
        "id": "z4n7PHwTsgoS"
      },
      "source": [
        "# Optimize\n",
        "\n",
        "def exponential_dist_optimisation(data, dist):\n",
        "\n",
        "    # Keep results for plotting\n",
        "    train_loss_results = []\n",
        "    train_rate_results = []\n",
        "    \n",
        "    optimizer = tf.keras.optimizers.SGD(learning_rate=0.1)\n",
        "\n",
        "    num_steps = 10\n",
        "\n",
        "    for i in range(num_steps):\n",
        "        loss, grads = get_loss_and_grads(data, dist)\n",
        "        optimizer.apply_gradients(zip(grads, dist.trainable_variables))\n",
        "        \n",
        "        rate_value = dist.rate.value()\n",
        "        train_loss_results.append(loss)\n",
        "        train_rate_results.append(rate_value)\n",
        "\n",
        "        print(\"Step {:03d}: Loss: {:.3f}: Rate: {:.3f}\".format(i, loss, rate_value))\n",
        "\n",
        "    return train_loss_results, train_rate_results"
      ],
      "execution_count": null,
      "outputs": []
    },
    {
      "cell_type": "code",
      "metadata": {
        "id": "cotOTqvysgoT",
        "colab": {
          "base_uri": "https://localhost:8080/"
        },
        "outputId": "1a6f7c6e-dcfa-465e-9a5a-82851568997b"
      },
      "source": [
        "# Get some data and train\n",
        "sampled_data = exponential.sample(1000)\n",
        "train_loss_results, train_rate_results=exponential_dist_optimisation(data=sampled_data, dist=exp_train)\n"
      ],
      "execution_count": null,
      "outputs": [
        {
          "output_type": "stream",
          "name": "stdout",
          "text": [
            "Step 000: Loss: 3.377: Rate: 0.762\n",
            "Step 001: Loss: 2.846: Rate: 0.556\n",
            "Step 002: Loss: 2.464: Rate: 0.398\n",
            "Step 003: Loss: 2.265: Rate: 0.311\n",
            "Step 004: Loss: 2.218: Rate: 0.295\n",
            "Step 005: Loss: 2.217: Rate: 0.296\n",
            "Step 006: Loss: 2.217: Rate: 0.296\n",
            "Step 007: Loss: 2.217: Rate: 0.296\n",
            "Step 008: Loss: 2.217: Rate: 0.296\n",
            "Step 009: Loss: 2.217: Rate: 0.296\n"
          ]
        }
      ]
    },
    {
      "cell_type": "code",
      "source": [
        "\n"
      ],
      "metadata": {
        "id": "GcbMxfs5X4jE"
      },
      "execution_count": null,
      "outputs": []
    },
    {
      "cell_type": "code",
      "metadata": {
        "id": "ZqWmf0xAsgoU",
        "colab": {
          "base_uri": "https://localhost:8080/"
        },
        "outputId": "372ae4b4-0ac3-4557-e1e6-ccc322c232f6"
      },
      "source": [
        "# Predicted value for the rate parameter\n",
        "\n",
        "pred_value = exp_train.rate.numpy()\n",
        "exact_value = exponential.rate.numpy()\n",
        "\n",
        "print(\"Exact rate: \", exact_value)\n",
        "print(\"Pred rate:  \", pred_value)"
      ],
      "execution_count": null,
      "outputs": [
        {
          "output_type": "stream",
          "name": "stdout",
          "text": [
            "Exact rate:  0.3\n",
            "Pred rate:   0.29608136\n"
          ]
        }
      ]
    },
    {
      "cell_type": "code",
      "metadata": {
        "id": "9GTcRseZsgoV",
        "colab": {
          "base_uri": "https://localhost:8080/",
          "height": 558
        },
        "outputId": "3fb0e34c-6fd5-4e64-86c0-7eb104b6348d"
      },
      "source": [
        "# Plot to see the convergence of the estimated and true parameters\n",
        "\n",
        "tensor_exact_value = tf.constant(exact_value, shape=[len(train_rate_results)])\n",
        "\n",
        "fig, axes = plt.subplots(2, sharex=True, figsize=(12, 8))\n",
        "fig.suptitle('Convergence')\n",
        "\n",
        "axes[0].set_ylabel(\"Loss\", fontsize=14)\n",
        "axes[0].plot(train_loss_results)\n",
        "\n",
        "axes[1].set_ylabel(\"Rate\", fontsize=14)\n",
        "axes[1].set_xlabel(\"Epoch\", fontsize=14)\n",
        "axes[1].plot(train_rate_results, label='trainable rate variable')\n",
        "axes[1].plot(tensor_exact_value, label='exact rate')\n",
        "axes[1].legend()\n",
        "plt.show()"
      ],
      "execution_count": null,
      "outputs": [
        {
          "output_type": "display_data",
          "data": {
            "text/plain": [
              "<Figure size 864x576 with 2 Axes>"
            ],
            "image/png": "[encoded data removed]"
          },
          "metadata": {
            "needs_background": "light"
          }
        }
      ]
    },
    {
      "cell_type": "code",
      "metadata": {
        "id": "a6BPCYP0sgoW"
      },
      "source": [
        "# Making a function get_data which:\n",
        "#   1) Fetches the 20 newsgroup dataset\n",
        "#   2) Performs a word count on the articles and binarizes the result\n",
        "#   3) Returns the data as a numpy matrix with the labels\n",
        "\n",
        "def get_data(categories):\n",
        "\n",
        "    newsgroups_train_data = fetch_20newsgroups(data_home='/path/to/20_Newsgroup_Data/',\n",
        "                                               subset='train', categories=categories)\n",
        "    newsgroups_test_data = fetch_20newsgroups(data_home='/path/to/20_Newsgroup_Data/',\n",
        "                                              subset='test', categories=categories)\n",
        "\n",
        "    n_documents = len(newsgroups_test_data['data'])\n",
        "    count_vectorizer = CountVectorizer(input='content', binary=True,max_df=0.25, min_df=1.01/n_documents) \n",
        "    train_binary_bag_of_words = count_vectorizer.fit_transform(newsgroups_train_data['data']) \n",
        "    test_binary_bag_of_words = count_vectorizer.transform(newsgroups_test_data['data']) \n",
        "\n",
        "    return (train_binary_bag_of_words.todense(), newsgroups_train_data['target']),  (test_binary_bag_of_words.todense(), newsgroups_test_data['target'])\n"
      ],
      "execution_count": null,
      "outputs": []
    },
    {
      "cell_type": "code",
      "metadata": {
        "id": "vuPOJhMSsgoX"
      },
      "source": [
        "# Defining a function to conduct laplace smoothing. This adds a base level of probability for a given feature\n",
        "# to occur in every class.\n",
        "\n",
        "def laplace_smoothing(labels, binary_data, n_classes):\n",
        "    # Compute the parameter estimates (adjusted fraction of documents in class that contain word)\n",
        "    n_words = binary_data.shape[1]\n",
        "    alpha = 1 # parameters for Laplace smoothing\n",
        "    theta = np.zeros([n_classes, n_words]) # stores parameter values - prob. word given class\n",
        "    for c_k in range(n_classes): # 0, 1, ..., 19\n",
        "        class_mask = (labels == c_k)\n",
        "        N = class_mask.sum() # number of articles in class\n",
        "        theta[c_k, :] = (binary_data[class_mask, :].sum(axis=0) + alpha)/(N + alpha*2)\n",
        "\n",
        "    return theta"
      ],
      "execution_count": null,
      "outputs": []
    },
    {
      "cell_type": "code",
      "metadata": {
        "id": "JgS2YLkRsgoY"
      },
      "source": [
        "# Now we will do a function that given the feature occurence counts returns a Bernoulli distribution of \n",
        "# batch_shape=number of classes and event_shape=number of features.\n",
        "\n",
        "def make_distributions(probs):\n",
        "    batch_of_bernoullis = tfd.Bernoulli(probs=probs) # shape (n_classes, n_words)\n",
        "    dist = tfd.Independent(batch_of_bernoullis, reinterpreted_batch_ndims=1)\n",
        "    return dist"
      ],
      "execution_count": null,
      "outputs": []
    },
    {
      "cell_type": "code",
      "metadata": {
        "id": "RFjiXwYLsgoZ"
      },
      "source": [
        "# Function which computes the prior probability of every class based on frequency of occurence in \n",
        "# the dataset\n",
        "\n",
        "def class_priors(n_classes, labels):\n",
        "    counts = np.zeros(n_classes)\n",
        "    for c_k in range(n_classes):\n",
        "        counts[c_k] = np.sum(np.where(labels==c_k, 1, 0))\n",
        "    priors = counts / np.sum(counts)\n",
        "    print('The class priors are {}'.format(priors))\n",
        "    return priors"
      ],
      "execution_count": null,
      "outputs": []
    },
    {
      "cell_type": "code",
      "metadata": {
        "id": "lAFUAq9fsgoa"
      },
      "source": [
        "# The final function predict_sample which given the distribution, a test sample, and the class priors:\n",
        "#   1) Computes the class conditional probabilities given the sample\n",
        "#   2) Forms the joint likelihood\n",
        "#   3) Normalises the joint likelihood and returns the log prob\n",
        "\n",
        "def predict_sample(dist, sample, priors):\n",
        "    cond_probs = dist.log_prob(sample)\n",
        "    joint_likelihood = tf.add(np.log(priors), cond_probs)\n",
        "    norm_factor = tf.math.reduce_logsumexp(joint_likelihood, axis=-1, keepdims=True)\n",
        "    log_prob = joint_likelihood - norm_factor\n",
        "\n",
        "    return log_prob"
      ],
      "execution_count": null,
      "outputs": []
    },
    {
      "cell_type": "code",
      "metadata": {
        "id": "wHn68l5isgob"
      },
      "source": [
        "# Now we learn the distribution using gradient tape\n",
        "\n",
        "def make_distribution_withGT(data, labels, nb_classes):\n",
        "\n",
        "    class_data = []\n",
        "    train_vars = []\n",
        "    distributions = []\n",
        "    for c in range(nb_classes):\n",
        "        train_vars.append(tf.Variable(initial_value=np.random.uniform(low=0.01, high =0.1, size=data.shape[-1])))\n",
        "        distributions.append(tfd.Bernoulli(probs=train_vars[c]))\n",
        "        class_mask = (labels == c)\n",
        "        class_data.append(data[class_mask, :])\n",
        "\n",
        "    for c_num in range(0,nb_classes):\n",
        "        optimizer = tf.keras.optimizers.Adam()\n",
        "        print('\\n%-------------------%')\n",
        "        print('Class ', c_num)\n",
        "        print('%-------------------%')\n",
        "\n",
        "        for i in range(0,100):\n",
        "          loss, grads = get_loss_and_grads(class_data[c_num], distributions[c_num])\n",
        "          if (i%10==0):\n",
        "              print('iter:{} loss: {}'.format(i, loss))\n",
        "          optimizer.apply_gradients(zip(grads, distributions[c_num].trainable_variables))\n",
        "\n",
        "    dist = tfd.Bernoulli(probs=train_vars)\n",
        "    dist = tfd.Independent(dist,reinterpreted_batch_ndims=1)\n",
        "\n",
        "    print(dist)\n",
        "\n",
        "    return dist\n"
      ],
      "execution_count": null,
      "outputs": []
    },
    {
      "cell_type": "code",
      "metadata": {
        "id": "KMjiHt37sgoc",
        "colab": {
          "base_uri": "https://localhost:8080/"
        },
        "outputId": "341d5981-21be-43e9-fcb3-00cca4711722"
      },
      "source": [
        "# Make the same Naive Bayes classifier we did last tutorial\n",
        "\n",
        "categories = ['alt.atheism', 'talk.religion.misc', 'comp.graphics', 'sci.space']\n",
        "\n",
        "(train_data, train_labels), (test_data, test_labels) = get_data(categories)\n",
        "\n",
        "smoothed_counts = laplace_smoothing(labels=train_labels, binary_data=train_data, n_classes=len(categories))\n",
        "\n",
        "priors = class_priors(n_classes=len(categories), labels=train_labels)\n",
        "tf_dist = make_distributions(smoothed_counts)"
      ],
      "execution_count": null,
      "outputs": [
        {
          "output_type": "stream",
          "name": "stdout",
          "text": [
            "The class priors are [0.2359882  0.28711898 0.29154376 0.18534907]\n"
          ]
        }
      ]
    },
    {
      "cell_type": "code",
      "metadata": {
        "id": "y3VKgbtusgoc",
        "colab": {
          "base_uri": "https://localhost:8080/"
        },
        "outputId": "397f7de0-022d-4a63-8b06-ddeef91b54d6"
      },
      "source": [
        "# Now train the distributions with gradient tape\n",
        "\n",
        "GT_dist = make_distribution_withGT(data=train_data, labels=train_labels, nb_classes=4)"
      ],
      "execution_count": null,
      "outputs": [
        {
          "output_type": "stream",
          "name": "stdout",
          "text": [
            "\n",
            "%-------------------%\n",
            "Class  0\n",
            "%-------------------%\n",
            "iter:0 loss: 0.0787027418228859\n",
            "iter:10 loss: 0.06930697019763886\n",
            "iter:20 loss: 0.06055285062445668\n",
            "iter:30 loss: 0.052445092606760044\n",
            "iter:40 loss: 0.044939372411430534\n",
            "iter:50 loss: 0.038000155128929944\n",
            "iter:60 loss: 0.03159045456760405\n",
            "iter:70 loss: 0.025670091280218136\n",
            "iter:80 loss: 0.02018994665624876\n",
            "iter:90 loss: 0.01510258181497036\n",
            "\n",
            "%-------------------%\n",
            "Class  1\n",
            "%-------------------%\n",
            "iter:0 loss: 0.07168429751793667\n",
            "iter:10 loss: 0.06233526599805082\n",
            "iter:20 loss: 0.05354723437645965\n",
            "iter:30 loss: 0.045382024606543454\n",
            "iter:40 loss: 0.037803449892935735\n",
            "iter:50 loss: 0.030801066921210735\n",
            "iter:60 loss: 0.024344830462277388\n",
            "iter:70 loss: 0.018386375363734726\n",
            "iter:80 loss: 0.01287629147574611\n",
            "iter:90 loss: 0.007765474645386492\n",
            "\n",
            "%-------------------%\n",
            "Class  2\n",
            "%-------------------%\n",
            "iter:0 loss: 0.07832787528178087\n",
            "iter:10 loss: 0.06923729617129112\n",
            "iter:20 loss: 0.06084887749428448\n",
            "iter:30 loss: 0.05319729436355301\n",
            "iter:40 loss: 0.04625061305348782\n",
            "iter:50 loss: 0.03996709659384039\n",
            "iter:60 loss: 0.034295527991072036\n",
            "iter:70 loss: 0.029204424462762914\n",
            "iter:80 loss: 0.02463111184718751\n",
            "iter:90 loss: 0.020500416595241384\n",
            "\n",
            "%-------------------%\n",
            "Class  3\n",
            "%-------------------%\n",
            "iter:0 loss: 0.07924433635076361\n",
            "iter:10 loss: 0.07001515944109209\n",
            "iter:20 loss: 0.06142407097856784\n",
            "iter:30 loss: 0.05347834280167255\n",
            "iter:40 loss: 0.046114578834820605\n",
            "iter:50 loss: 0.03929011780537704\n",
            "iter:60 loss: 0.03296804849735484\n",
            "iter:70 loss: 0.027110705243748274\n",
            "iter:80 loss: 0.021663877486373204\n",
            "iter:90 loss: 0.01657310759589984\n",
            "tfp.distributions.Independent(\"IndependentBernoulli\", batch_shape=[4], event_shape=[17495], dtype=int32)\n"
          ]
        }
      ]
    },
    {
      "cell_type": "code",
      "metadata": {
        "id": "EDliliYSsgod",
        "colab": {
          "base_uri": "https://localhost:8080/"
        },
        "outputId": "fd78cc0f-481c-4c54-f567-37a456bc2585"
      },
      "source": [
        "# Compare the two results\n",
        "priors = tf.cast(priors, \"float32\")\n",
        "\n",
        "for dist in [GT_dist,tf_dist]:\n",
        "    probabilities = []\n",
        "    for sample, label in zip(test_data, test_labels):\n",
        "        probabilities.append(predict_sample(dist, sample, priors))\n",
        "\n",
        "    probabilities = np.asarray(probabilities)\n",
        "    predicted_classes = np.argmax(probabilities, axis =-1)\n",
        "    print('f1 ', f1_score(test_labels, predicted_classes, average='macro'))"
      ],
      "execution_count": null,
      "outputs": [
        {
          "output_type": "stream",
          "name": "stdout",
          "text": [
            "f1  0.09539473684210525\n",
            "f1  0.7848499112849504\n"
          ]
        }
      ]
    },
    {
      "cell_type": "code",
      "source": [
        ""
      ],
      "metadata": {
        "id": "Dm5AVdv64kCk"
      },
      "execution_count": null,
      "outputs": []
    }
  ]
}